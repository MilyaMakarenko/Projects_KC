{
 "cells": [
  {
   "cell_type": "markdown",
   "metadata": {},
   "source": [
    "# Анализ рекламных данных\n",
    "---\n",
    "практический кейс"
   ]
  },
  {
   "cell_type": "markdown",
   "metadata": {},
   "source": [
    "## Время и сводные таблицы\n",
    "\n",
    "### Задачи.\n",
    "\n",
    "Представьте, что вы устроились работать аналитиком в отдел рекламы, и ваша первая задача — помочь коллегам разобраться с некоторыми вопросами:\n",
    "\n",
    "    Получить статистику по дням. Посчитать число всех событий по дням, число показов, число кликов, число уникальных объявлений и уникальных кампаний.\n",
    "    Разобраться, почему случился такой скачок 2019-04-05? Каких событий стало больше? У всех объявлений или только у некоторых?\n",
    "    Найти топ 10 объявлений по CTR за все время. CTR — это отношение всех кликов объявлений к просмотрам. Например, если у объявления было 100 показов и 2 клика, CTR = 0.02. Различается ли средний и медианный CTR объявлений в наших данных?\n",
    "    Похоже, в наших логах есть баг, объявления приходят с кликами, но без показов! Сколько таких объявлений, есть ли какие-то закономерности? Эта проблема наблюдается на всех платформах?\n",
    "    Есть ли различия в CTR у объявлений с видео и без? А чему равняется 95 процентиль CTR по всем объявлениям за 2019-04-04?\n",
    "    Для финансового отчета нужно рассчитать наш заработок по дням. В какой день мы заработали больше всего? В какой меньше? Мы списываем с клиентов деньги, если произошел клик по CPC объявлению, и мы списываем деньги за каждый показ CPM объявления, если у CPM объявления цена 200 рублей, то за один показ мы зарабатываем 200 / 1000.\n",
    "    Какая платформа самая популярная для размещения рекламных объявлений? Сколько процентов показов приходится на каждую из платформ (колонка platform)?\n",
    "    А есть ли такие объявления, по которым сначала произошел клик, а только потом показ?\n",
    "    \n",
    "### Описание колонок\n",
    "\n",
    "    date — день, в который происходят события\n",
    "    time — точное время события\n",
    "    event — тип события, может быть или показ или клик по рекламе\n",
    "    platform — платформа, на которой произошло рекламное событие\n",
    "    ad_id — id рекламного объявления\n",
    "    client_union_id — id рекламного клиента\n",
    "    campaign_union_id — id рекламной кампании\n",
    "    ad_cost_type — тип объявления с оплатой за клики (CPC) или за показы (CPM)\n",
    "    ad_cost — стоимость объявления в рублях, для CPC объявлений — это цена за клик, для CPM — цена за 1000 показов\n",
    "    has_video — есть ли у рекламного объявления видео\n",
    "    target_audience_count — размер аудитории, на которую таргетируется объявление    \n",
    "    "
   ]
  },
  {
   "cell_type": "code",
   "execution_count": 1,
   "metadata": {},
   "outputs": [],
   "source": [
    "import pandas as pd\n",
    "import numpy as np\n",
    "import seaborn as sns\n",
    "import matplotlib.pyplot as plt\n",
    "\n",
    "%matplotlib inline"
   ]
  },
  {
   "cell_type": "code",
   "execution_count": 2,
   "metadata": {},
   "outputs": [],
   "source": [
    "ads_data =pd.read_csv('ads_data.csv.zip', compression='zip')"
   ]
  },
  {
   "cell_type": "code",
   "execution_count": 3,
   "metadata": {},
   "outputs": [
    {
     "data": {
      "text/plain": [
       "Index(['ad_id', 'time', 'event', 'date', 'ad_cost_type', 'has_video',\n",
       "       'client_union_id', 'campaign_union_id', 'platform', 'ad_cost',\n",
       "       'target_audience_count', 'user_id'],\n",
       "      dtype='object')"
      ]
     },
     "execution_count": 3,
     "metadata": {},
     "output_type": "execute_result"
    }
   ],
   "source": [
    "ads_data.columns"
   ]
  },
  {
   "cell_type": "code",
   "execution_count": 4,
   "metadata": {},
   "outputs": [],
   "source": [
    "ads_data['full_date'] = pd.to_datetime(ads_data.time, unit='s')"
   ]
  },
  {
   "cell_type": "code",
   "execution_count": 5,
   "metadata": {},
   "outputs": [],
   "source": [
    "ads_data['date'] = pd.to_datetime(ads_data.date)"
   ]
  },
  {
   "cell_type": "code",
   "execution_count": 6,
   "metadata": {},
   "outputs": [
    {
     "data": {
      "text/plain": [
       "ad_id                             int64\n",
       "time                              int64\n",
       "event                            object\n",
       "date                     datetime64[ns]\n",
       "ad_cost_type                     object\n",
       "has_video                         int64\n",
       "client_union_id                   int64\n",
       "campaign_union_id                 int64\n",
       "platform                         object\n",
       "ad_cost                         float64\n",
       "target_audience_count             int64\n",
       "user_id                           int64\n",
       "full_date                datetime64[ns]\n",
       "dtype: object"
      ]
     },
     "execution_count": 6,
     "metadata": {},
     "output_type": "execute_result"
    }
   ],
   "source": [
    "ads_data.dtypes"
   ]
  },
  {
   "cell_type": "markdown",
   "metadata": {},
   "source": [
    "Из full_date можем  посмотреть какой имесц, какой день и тд"
   ]
  },
  {
   "cell_type": "code",
   "execution_count": 7,
   "metadata": {},
   "outputs": [
    {
     "data": {
      "text/plain": [
       "0          4\n",
       "1          4\n",
       "2          4\n",
       "3          4\n",
       "4          4\n",
       "          ..\n",
       "3176709    4\n",
       "3176710    4\n",
       "3176711    4\n",
       "3176712    4\n",
       "3176713    4\n",
       "Name: full_date, Length: 3176714, dtype: int64"
      ]
     },
     "execution_count": 7,
     "metadata": {},
     "output_type": "execute_result"
    }
   ],
   "source": [
    "ads_data.full_date.dt.month"
   ]
  },
  {
   "cell_type": "code",
   "execution_count": 8,
   "metadata": {},
   "outputs": [
    {
     "data": {
      "text/plain": [
       "0          2019\n",
       "1          2019\n",
       "2          2019\n",
       "3          2019\n",
       "4          2019\n",
       "           ... \n",
       "3176709    2019\n",
       "3176710    2019\n",
       "3176711    2019\n",
       "3176712    2019\n",
       "3176713    2019\n",
       "Name: full_date, Length: 3176714, dtype: int64"
      ]
     },
     "execution_count": 8,
     "metadata": {},
     "output_type": "execute_result"
    }
   ],
   "source": [
    "ads_data.full_date.dt.year"
   ]
  },
  {
   "cell_type": "markdown",
   "metadata": {},
   "source": [
    "Или перевести в  дату без времени"
   ]
  },
  {
   "cell_type": "code",
   "execution_count": 9,
   "metadata": {},
   "outputs": [
    {
     "data": {
      "text/plain": [
       "0          2019-04-01\n",
       "1          2019-04-01\n",
       "2          2019-04-01\n",
       "3          2019-04-01\n",
       "4          2019-04-01\n",
       "              ...    \n",
       "3176709    2019-04-05\n",
       "3176710    2019-04-05\n",
       "3176711    2019-04-05\n",
       "3176712    2019-04-05\n",
       "3176713    2019-04-05\n",
       "Name: full_date, Length: 3176714, dtype: object"
      ]
     },
     "execution_count": 9,
     "metadata": {},
     "output_type": "execute_result"
    }
   ],
   "source": [
    "ads_data.full_date.dt.date"
   ]
  },
  {
   "cell_type": "markdown",
   "metadata": {},
   "source": [
    " > **1.**   \n",
    " Получить статистику по дням. Посчитать число всех событий по дням, число показов, число кликов, число уникальных объявлений и уникальных кампаний.\n",
    "\n",
    "> Разобраться, почему случился такой скачок 2019-04-05? Каких событий стало больше? У всех объявлений или только у некоторых?"
   ]
  },
  {
   "cell_type": "code",
   "execution_count": 10,
   "metadata": {},
   "outputs": [
    {
     "data": {
      "text/html": [
       "<div>\n",
       "<style scoped>\n",
       "    .dataframe tbody tr th:only-of-type {\n",
       "        vertical-align: middle;\n",
       "    }\n",
       "\n",
       "    .dataframe tbody tr th {\n",
       "        vertical-align: top;\n",
       "    }\n",
       "\n",
       "    .dataframe thead th {\n",
       "        text-align: right;\n",
       "    }\n",
       "</style>\n",
       "<table border=\"1\" class=\"dataframe\">\n",
       "  <thead>\n",
       "    <tr style=\"text-align: right;\">\n",
       "      <th></th>\n",
       "      <th></th>\n",
       "      <th>ad_id</th>\n",
       "    </tr>\n",
       "    <tr>\n",
       "      <th>date</th>\n",
       "      <th>event</th>\n",
       "      <th></th>\n",
       "    </tr>\n",
       "  </thead>\n",
       "  <tbody>\n",
       "    <tr>\n",
       "      <th rowspan=\"2\" valign=\"top\">2019-04-01</th>\n",
       "      <th>click</th>\n",
       "      <td>735</td>\n",
       "    </tr>\n",
       "    <tr>\n",
       "      <th>view</th>\n",
       "      <td>34832</td>\n",
       "    </tr>\n",
       "    <tr>\n",
       "      <th rowspan=\"2\" valign=\"top\">2019-04-02</th>\n",
       "      <th>click</th>\n",
       "      <td>1518</td>\n",
       "    </tr>\n",
       "    <tr>\n",
       "      <th>view</th>\n",
       "      <td>145811</td>\n",
       "    </tr>\n",
       "    <tr>\n",
       "      <th rowspan=\"2\" valign=\"top\">2019-04-03</th>\n",
       "      <th>click</th>\n",
       "      <td>1678</td>\n",
       "    </tr>\n",
       "    <tr>\n",
       "      <th>view</th>\n",
       "      <td>214851</td>\n",
       "    </tr>\n",
       "    <tr>\n",
       "      <th rowspan=\"2\" valign=\"top\">2019-04-04</th>\n",
       "      <th>click</th>\n",
       "      <td>1517</td>\n",
       "    </tr>\n",
       "    <tr>\n",
       "      <th>view</th>\n",
       "      <td>126182</td>\n",
       "    </tr>\n",
       "    <tr>\n",
       "      <th rowspan=\"2\" valign=\"top\">2019-04-05</th>\n",
       "      <th>click</th>\n",
       "      <td>501595</td>\n",
       "    </tr>\n",
       "    <tr>\n",
       "      <th>view</th>\n",
       "      <td>1783288</td>\n",
       "    </tr>\n",
       "    <tr>\n",
       "      <th rowspan=\"2\" valign=\"top\">2019-04-06</th>\n",
       "      <th>click</th>\n",
       "      <td>80420</td>\n",
       "    </tr>\n",
       "    <tr>\n",
       "      <th>view</th>\n",
       "      <td>284287</td>\n",
       "    </tr>\n",
       "  </tbody>\n",
       "</table>\n",
       "</div>"
      ],
      "text/plain": [
       "                    ad_id\n",
       "date       event         \n",
       "2019-04-01 click      735\n",
       "           view     34832\n",
       "2019-04-02 click     1518\n",
       "           view    145811\n",
       "2019-04-03 click     1678\n",
       "           view    214851\n",
       "2019-04-04 click     1517\n",
       "           view    126182\n",
       "2019-04-05 click   501595\n",
       "           view   1783288\n",
       "2019-04-06 click    80420\n",
       "           view    284287"
      ]
     },
     "execution_count": 10,
     "metadata": {},
     "output_type": "execute_result"
    }
   ],
   "source": [
    "ads_data.groupby(['date', 'event']) \\\n",
    "    .agg({'ad_id': 'count'}) "
   ]
  },
  {
   "cell_type": "code",
   "execution_count": 11,
   "metadata": {},
   "outputs": [
    {
     "data": {
      "text/plain": [
       "<matplotlib.axes._subplots.AxesSubplot at 0x7f4fcf905240>"
      ]
     },
     "execution_count": 11,
     "metadata": {},
     "output_type": "execute_result"
    },
    {
     "data": {
      "image/png": "[encoded data removed]",
      "text/plain": [
       "<Figure size 432x288 with 1 Axes>"
      ]
     },
     "metadata": {
      "needs_background": "light"
     },
     "output_type": "display_data"
    }
   ],
   "source": [
    "ads_data.groupby(['date', 'event']) \\\n",
    "    .agg({'ad_id': 'count'}).plot()"
   ]
  },
  {
   "cell_type": "markdown",
   "metadata": {},
   "source": [
    "```pivot()``` изменяет данные так чтоб строки стали колонками "
   ]
  },
  {
   "cell_type": "code",
   "execution_count": 12,
   "metadata": {},
   "outputs": [
    {
     "data": {
      "text/html": [
       "<div>\n",
       "<style scoped>\n",
       "    .dataframe tbody tr th:only-of-type {\n",
       "        vertical-align: middle;\n",
       "    }\n",
       "\n",
       "    .dataframe tbody tr th {\n",
       "        vertical-align: top;\n",
       "    }\n",
       "\n",
       "    .dataframe thead th {\n",
       "        text-align: right;\n",
       "    }\n",
       "</style>\n",
       "<table border=\"1\" class=\"dataframe\">\n",
       "  <thead>\n",
       "    <tr style=\"text-align: right;\">\n",
       "      <th>event</th>\n",
       "      <th>date</th>\n",
       "      <th>click</th>\n",
       "      <th>view</th>\n",
       "    </tr>\n",
       "  </thead>\n",
       "  <tbody>\n",
       "    <tr>\n",
       "      <th>0</th>\n",
       "      <td>2019-04-01</td>\n",
       "      <td>735</td>\n",
       "      <td>34832</td>\n",
       "    </tr>\n",
       "    <tr>\n",
       "      <th>1</th>\n",
       "      <td>2019-04-02</td>\n",
       "      <td>1518</td>\n",
       "      <td>145811</td>\n",
       "    </tr>\n",
       "    <tr>\n",
       "      <th>2</th>\n",
       "      <td>2019-04-03</td>\n",
       "      <td>1678</td>\n",
       "      <td>214851</td>\n",
       "    </tr>\n",
       "    <tr>\n",
       "      <th>3</th>\n",
       "      <td>2019-04-04</td>\n",
       "      <td>1517</td>\n",
       "      <td>126182</td>\n",
       "    </tr>\n",
       "    <tr>\n",
       "      <th>4</th>\n",
       "      <td>2019-04-05</td>\n",
       "      <td>501595</td>\n",
       "      <td>1783288</td>\n",
       "    </tr>\n",
       "    <tr>\n",
       "      <th>5</th>\n",
       "      <td>2019-04-06</td>\n",
       "      <td>80420</td>\n",
       "      <td>284287</td>\n",
       "    </tr>\n",
       "  </tbody>\n",
       "</table>\n",
       "</div>"
      ],
      "text/plain": [
       "event       date   click     view\n",
       "0     2019-04-01     735    34832\n",
       "1     2019-04-02    1518   145811\n",
       "2     2019-04-03    1678   214851\n",
       "3     2019-04-04    1517   126182\n",
       "4     2019-04-05  501595  1783288\n",
       "5     2019-04-06   80420   284287"
      ]
     },
     "execution_count": 12,
     "metadata": {},
     "output_type": "execute_result"
    }
   ],
   "source": [
    "ads_data.groupby(['date', 'event'], as_index=False) \\\n",
    "    .agg({'ad_id': 'count'}) \\\n",
    "    .pivot(index='date', columns = 'event', values='ad_id').reset_index() #reset_index() убираем мульти индексацию"
   ]
  },
  {
   "cell_type": "code",
   "execution_count": 13,
   "metadata": {},
   "outputs": [],
   "source": [
    "# ??pd.pivot - можно сразу здесь посмотреть что это за функция"
   ]
  },
  {
   "cell_type": "markdown",
   "metadata": {},
   "source": [
    " > **число уникальных объявлений и уникальных кампаний по дням**"
   ]
  },
  {
   "cell_type": "code",
   "execution_count": 14,
   "metadata": {},
   "outputs": [
    {
     "data": {
      "text/html": [
       "<div>\n",
       "<style scoped>\n",
       "    .dataframe tbody tr th:only-of-type {\n",
       "        vertical-align: middle;\n",
       "    }\n",
       "\n",
       "    .dataframe tbody tr th {\n",
       "        vertical-align: top;\n",
       "    }\n",
       "\n",
       "    .dataframe thead th {\n",
       "        text-align: right;\n",
       "    }\n",
       "</style>\n",
       "<table border=\"1\" class=\"dataframe\">\n",
       "  <thead>\n",
       "    <tr style=\"text-align: right;\">\n",
       "      <th>campaign_union_id</th>\n",
       "      <th>date</th>\n",
       "      <th>1</th>\n",
       "      <th>2073</th>\n",
       "      <th>2119</th>\n",
       "      <th>2464</th>\n",
       "      <th>4382</th>\n",
       "      <th>4393</th>\n",
       "      <th>4452</th>\n",
       "      <th>7516</th>\n",
       "      <th>9071</th>\n",
       "      <th>...</th>\n",
       "      <th>121513</th>\n",
       "      <th>121541</th>\n",
       "      <th>121695</th>\n",
       "      <th>121779</th>\n",
       "      <th>121790</th>\n",
       "      <th>121941</th>\n",
       "      <th>121943</th>\n",
       "      <th>122042</th>\n",
       "      <th>122063</th>\n",
       "      <th>122086</th>\n",
       "    </tr>\n",
       "  </thead>\n",
       "  <tbody>\n",
       "    <tr>\n",
       "      <th>0</th>\n",
       "      <td>2019-04-01</td>\n",
       "      <td>0.0</td>\n",
       "      <td>0.0</td>\n",
       "      <td>0.0</td>\n",
       "      <td>0.0</td>\n",
       "      <td>445.0</td>\n",
       "      <td>0.0</td>\n",
       "      <td>475.0</td>\n",
       "      <td>359.0</td>\n",
       "      <td>0.0</td>\n",
       "      <td>...</td>\n",
       "      <td>0.0</td>\n",
       "      <td>0.0</td>\n",
       "      <td>0.0</td>\n",
       "      <td>0.0</td>\n",
       "      <td>0.0</td>\n",
       "      <td>0.0</td>\n",
       "      <td>0.0</td>\n",
       "      <td>0.0</td>\n",
       "      <td>0.0</td>\n",
       "      <td>0.0</td>\n",
       "    </tr>\n",
       "    <tr>\n",
       "      <th>1</th>\n",
       "      <td>2019-04-02</td>\n",
       "      <td>0.0</td>\n",
       "      <td>0.0</td>\n",
       "      <td>0.0</td>\n",
       "      <td>0.0</td>\n",
       "      <td>84.0</td>\n",
       "      <td>1780.0</td>\n",
       "      <td>108.0</td>\n",
       "      <td>77.0</td>\n",
       "      <td>0.0</td>\n",
       "      <td>...</td>\n",
       "      <td>0.0</td>\n",
       "      <td>227.0</td>\n",
       "      <td>266.0</td>\n",
       "      <td>0.0</td>\n",
       "      <td>0.0</td>\n",
       "      <td>0.0</td>\n",
       "      <td>1455.0</td>\n",
       "      <td>0.0</td>\n",
       "      <td>0.0</td>\n",
       "      <td>1732.0</td>\n",
       "    </tr>\n",
       "    <tr>\n",
       "      <th>2</th>\n",
       "      <td>2019-04-03</td>\n",
       "      <td>0.0</td>\n",
       "      <td>0.0</td>\n",
       "      <td>0.0</td>\n",
       "      <td>0.0</td>\n",
       "      <td>0.0</td>\n",
       "      <td>385.0</td>\n",
       "      <td>0.0</td>\n",
       "      <td>0.0</td>\n",
       "      <td>0.0</td>\n",
       "      <td>...</td>\n",
       "      <td>0.0</td>\n",
       "      <td>55.0</td>\n",
       "      <td>58.0</td>\n",
       "      <td>6384.0</td>\n",
       "      <td>0.0</td>\n",
       "      <td>546.0</td>\n",
       "      <td>282.0</td>\n",
       "      <td>0.0</td>\n",
       "      <td>213.0</td>\n",
       "      <td>317.0</td>\n",
       "    </tr>\n",
       "    <tr>\n",
       "      <th>3</th>\n",
       "      <td>2019-04-04</td>\n",
       "      <td>0.0</td>\n",
       "      <td>0.0</td>\n",
       "      <td>0.0</td>\n",
       "      <td>0.0</td>\n",
       "      <td>0.0</td>\n",
       "      <td>0.0</td>\n",
       "      <td>0.0</td>\n",
       "      <td>0.0</td>\n",
       "      <td>355.0</td>\n",
       "      <td>...</td>\n",
       "      <td>0.0</td>\n",
       "      <td>0.0</td>\n",
       "      <td>0.0</td>\n",
       "      <td>1184.0</td>\n",
       "      <td>708.0</td>\n",
       "      <td>95.0</td>\n",
       "      <td>0.0</td>\n",
       "      <td>0.0</td>\n",
       "      <td>48.0</td>\n",
       "      <td>0.0</td>\n",
       "    </tr>\n",
       "    <tr>\n",
       "      <th>4</th>\n",
       "      <td>2019-04-05</td>\n",
       "      <td>427.0</td>\n",
       "      <td>78.0</td>\n",
       "      <td>1246.0</td>\n",
       "      <td>383.0</td>\n",
       "      <td>0.0</td>\n",
       "      <td>0.0</td>\n",
       "      <td>0.0</td>\n",
       "      <td>0.0</td>\n",
       "      <td>93.0</td>\n",
       "      <td>...</td>\n",
       "      <td>516.0</td>\n",
       "      <td>0.0</td>\n",
       "      <td>0.0</td>\n",
       "      <td>0.0</td>\n",
       "      <td>137.0</td>\n",
       "      <td>0.0</td>\n",
       "      <td>0.0</td>\n",
       "      <td>135.0</td>\n",
       "      <td>0.0</td>\n",
       "      <td>0.0</td>\n",
       "    </tr>\n",
       "    <tr>\n",
       "      <th>5</th>\n",
       "      <td>2019-04-06</td>\n",
       "      <td>72.0</td>\n",
       "      <td>18.0</td>\n",
       "      <td>210.0</td>\n",
       "      <td>38.0</td>\n",
       "      <td>0.0</td>\n",
       "      <td>0.0</td>\n",
       "      <td>0.0</td>\n",
       "      <td>0.0</td>\n",
       "      <td>0.0</td>\n",
       "      <td>...</td>\n",
       "      <td>77.0</td>\n",
       "      <td>0.0</td>\n",
       "      <td>0.0</td>\n",
       "      <td>0.0</td>\n",
       "      <td>0.0</td>\n",
       "      <td>0.0</td>\n",
       "      <td>0.0</td>\n",
       "      <td>21.0</td>\n",
       "      <td>0.0</td>\n",
       "      <td>0.0</td>\n",
       "    </tr>\n",
       "  </tbody>\n",
       "</table>\n",
       "<p>6 rows × 350 columns</p>\n",
       "</div>"
      ],
      "text/plain": [
       "campaign_union_id       date      1  2073    2119   2464   4382    4393  \\\n",
       "0                 2019-04-01    0.0   0.0     0.0    0.0  445.0     0.0   \n",
       "1                 2019-04-02    0.0   0.0     0.0    0.0   84.0  1780.0   \n",
       "2                 2019-04-03    0.0   0.0     0.0    0.0    0.0   385.0   \n",
       "3                 2019-04-04    0.0   0.0     0.0    0.0    0.0     0.0   \n",
       "4                 2019-04-05  427.0  78.0  1246.0  383.0    0.0     0.0   \n",
       "5                 2019-04-06   72.0  18.0   210.0   38.0    0.0     0.0   \n",
       "\n",
       "campaign_union_id   4452   7516   9071  ...  121513  121541  121695  121779  \\\n",
       "0                  475.0  359.0    0.0  ...     0.0     0.0     0.0     0.0   \n",
       "1                  108.0   77.0    0.0  ...     0.0   227.0   266.0     0.0   \n",
       "2                    0.0    0.0    0.0  ...     0.0    55.0    58.0  6384.0   \n",
       "3                    0.0    0.0  355.0  ...     0.0     0.0     0.0  1184.0   \n",
       "4                    0.0    0.0   93.0  ...   516.0     0.0     0.0     0.0   \n",
       "5                    0.0    0.0    0.0  ...    77.0     0.0     0.0     0.0   \n",
       "\n",
       "campaign_union_id  121790  121941  121943  122042  122063  122086  \n",
       "0                     0.0     0.0     0.0     0.0     0.0     0.0  \n",
       "1                     0.0     0.0  1455.0     0.0     0.0  1732.0  \n",
       "2                     0.0   546.0   282.0     0.0   213.0   317.0  \n",
       "3                   708.0    95.0     0.0     0.0    48.0     0.0  \n",
       "4                   137.0     0.0     0.0   135.0     0.0     0.0  \n",
       "5                     0.0     0.0     0.0    21.0     0.0     0.0  \n",
       "\n",
       "[6 rows x 350 columns]"
      ]
     },
     "execution_count": 14,
     "metadata": {},
     "output_type": "execute_result"
    }
   ],
   "source": [
    "ads_data.groupby(['date', 'campaign_union_id'], as_index=False) \\\n",
    "    .agg({'event': 'count'}) \\\n",
    "    .pivot(index='date', columns = ['campaign_union_id'], values='event').reset_index().fillna(0)"
   ]
  },
  {
   "cell_type": "code",
   "execution_count": 15,
   "metadata": {},
   "outputs": [
    {
     "data": {
      "text/html": [
       "<div>\n",
       "<style scoped>\n",
       "    .dataframe tbody tr th:only-of-type {\n",
       "        vertical-align: middle;\n",
       "    }\n",
       "\n",
       "    .dataframe tbody tr th {\n",
       "        vertical-align: top;\n",
       "    }\n",
       "\n",
       "    .dataframe thead th {\n",
       "        text-align: right;\n",
       "    }\n",
       "</style>\n",
       "<table border=\"1\" class=\"dataframe\">\n",
       "  <thead>\n",
       "    <tr style=\"text-align: right;\">\n",
       "      <th>ad_id</th>\n",
       "      <th>date</th>\n",
       "      <th>3</th>\n",
       "      <th>2132</th>\n",
       "      <th>2276</th>\n",
       "      <th>2475</th>\n",
       "      <th>2643</th>\n",
       "      <th>4585</th>\n",
       "      <th>4877</th>\n",
       "      <th>5028</th>\n",
       "      <th>7518</th>\n",
       "      <th>...</th>\n",
       "      <th>121513</th>\n",
       "      <th>121541</th>\n",
       "      <th>121695</th>\n",
       "      <th>121779</th>\n",
       "      <th>121790</th>\n",
       "      <th>121941</th>\n",
       "      <th>121943</th>\n",
       "      <th>122042</th>\n",
       "      <th>122063</th>\n",
       "      <th>122086</th>\n",
       "    </tr>\n",
       "  </thead>\n",
       "  <tbody>\n",
       "    <tr>\n",
       "      <th>0</th>\n",
       "      <td>2019-04-01</td>\n",
       "      <td>0.0</td>\n",
       "      <td>0.0</td>\n",
       "      <td>0.0</td>\n",
       "      <td>0.0</td>\n",
       "      <td>0.0</td>\n",
       "      <td>445.0</td>\n",
       "      <td>0.0</td>\n",
       "      <td>475.0</td>\n",
       "      <td>359.0</td>\n",
       "      <td>...</td>\n",
       "      <td>0.0</td>\n",
       "      <td>0.0</td>\n",
       "      <td>0.0</td>\n",
       "      <td>0.0</td>\n",
       "      <td>0.0</td>\n",
       "      <td>0.0</td>\n",
       "      <td>0.0</td>\n",
       "      <td>0.0</td>\n",
       "      <td>0.0</td>\n",
       "      <td>0.0</td>\n",
       "    </tr>\n",
       "    <tr>\n",
       "      <th>1</th>\n",
       "      <td>2019-04-02</td>\n",
       "      <td>0.0</td>\n",
       "      <td>0.0</td>\n",
       "      <td>0.0</td>\n",
       "      <td>0.0</td>\n",
       "      <td>0.0</td>\n",
       "      <td>84.0</td>\n",
       "      <td>1780.0</td>\n",
       "      <td>108.0</td>\n",
       "      <td>77.0</td>\n",
       "      <td>...</td>\n",
       "      <td>0.0</td>\n",
       "      <td>227.0</td>\n",
       "      <td>266.0</td>\n",
       "      <td>0.0</td>\n",
       "      <td>0.0</td>\n",
       "      <td>0.0</td>\n",
       "      <td>1455.0</td>\n",
       "      <td>0.0</td>\n",
       "      <td>0.0</td>\n",
       "      <td>1732.0</td>\n",
       "    </tr>\n",
       "    <tr>\n",
       "      <th>2</th>\n",
       "      <td>2019-04-03</td>\n",
       "      <td>0.0</td>\n",
       "      <td>0.0</td>\n",
       "      <td>0.0</td>\n",
       "      <td>0.0</td>\n",
       "      <td>0.0</td>\n",
       "      <td>0.0</td>\n",
       "      <td>385.0</td>\n",
       "      <td>0.0</td>\n",
       "      <td>0.0</td>\n",
       "      <td>...</td>\n",
       "      <td>0.0</td>\n",
       "      <td>55.0</td>\n",
       "      <td>58.0</td>\n",
       "      <td>6384.0</td>\n",
       "      <td>0.0</td>\n",
       "      <td>546.0</td>\n",
       "      <td>282.0</td>\n",
       "      <td>0.0</td>\n",
       "      <td>213.0</td>\n",
       "      <td>317.0</td>\n",
       "    </tr>\n",
       "    <tr>\n",
       "      <th>3</th>\n",
       "      <td>2019-04-04</td>\n",
       "      <td>0.0</td>\n",
       "      <td>0.0</td>\n",
       "      <td>0.0</td>\n",
       "      <td>0.0</td>\n",
       "      <td>0.0</td>\n",
       "      <td>0.0</td>\n",
       "      <td>0.0</td>\n",
       "      <td>0.0</td>\n",
       "      <td>0.0</td>\n",
       "      <td>...</td>\n",
       "      <td>0.0</td>\n",
       "      <td>0.0</td>\n",
       "      <td>0.0</td>\n",
       "      <td>1184.0</td>\n",
       "      <td>708.0</td>\n",
       "      <td>95.0</td>\n",
       "      <td>0.0</td>\n",
       "      <td>0.0</td>\n",
       "      <td>48.0</td>\n",
       "      <td>0.0</td>\n",
       "    </tr>\n",
       "    <tr>\n",
       "      <th>4</th>\n",
       "      <td>2019-04-05</td>\n",
       "      <td>427.0</td>\n",
       "      <td>78.0</td>\n",
       "      <td>1246.0</td>\n",
       "      <td>122.0</td>\n",
       "      <td>261.0</td>\n",
       "      <td>0.0</td>\n",
       "      <td>0.0</td>\n",
       "      <td>0.0</td>\n",
       "      <td>0.0</td>\n",
       "      <td>...</td>\n",
       "      <td>516.0</td>\n",
       "      <td>0.0</td>\n",
       "      <td>0.0</td>\n",
       "      <td>0.0</td>\n",
       "      <td>137.0</td>\n",
       "      <td>0.0</td>\n",
       "      <td>0.0</td>\n",
       "      <td>135.0</td>\n",
       "      <td>0.0</td>\n",
       "      <td>0.0</td>\n",
       "    </tr>\n",
       "    <tr>\n",
       "      <th>5</th>\n",
       "      <td>2019-04-06</td>\n",
       "      <td>72.0</td>\n",
       "      <td>18.0</td>\n",
       "      <td>210.0</td>\n",
       "      <td>10.0</td>\n",
       "      <td>28.0</td>\n",
       "      <td>0.0</td>\n",
       "      <td>0.0</td>\n",
       "      <td>0.0</td>\n",
       "      <td>0.0</td>\n",
       "      <td>...</td>\n",
       "      <td>77.0</td>\n",
       "      <td>0.0</td>\n",
       "      <td>0.0</td>\n",
       "      <td>0.0</td>\n",
       "      <td>0.0</td>\n",
       "      <td>0.0</td>\n",
       "      <td>0.0</td>\n",
       "      <td>21.0</td>\n",
       "      <td>0.0</td>\n",
       "      <td>0.0</td>\n",
       "    </tr>\n",
       "  </tbody>\n",
       "</table>\n",
       "<p>6 rows × 356 columns</p>\n",
       "</div>"
      ],
      "text/plain": [
       "ad_id       date      3  2132    2276   2475   2643   4585    4877   5028  \\\n",
       "0     2019-04-01    0.0   0.0     0.0    0.0    0.0  445.0     0.0  475.0   \n",
       "1     2019-04-02    0.0   0.0     0.0    0.0    0.0   84.0  1780.0  108.0   \n",
       "2     2019-04-03    0.0   0.0     0.0    0.0    0.0    0.0   385.0    0.0   \n",
       "3     2019-04-04    0.0   0.0     0.0    0.0    0.0    0.0     0.0    0.0   \n",
       "4     2019-04-05  427.0  78.0  1246.0  122.0  261.0    0.0     0.0    0.0   \n",
       "5     2019-04-06   72.0  18.0   210.0   10.0   28.0    0.0     0.0    0.0   \n",
       "\n",
       "ad_id   7518  ...  121513  121541  121695  121779  121790  121941  121943  \\\n",
       "0      359.0  ...     0.0     0.0     0.0     0.0     0.0     0.0     0.0   \n",
       "1       77.0  ...     0.0   227.0   266.0     0.0     0.0     0.0  1455.0   \n",
       "2        0.0  ...     0.0    55.0    58.0  6384.0     0.0   546.0   282.0   \n",
       "3        0.0  ...     0.0     0.0     0.0  1184.0   708.0    95.0     0.0   \n",
       "4        0.0  ...   516.0     0.0     0.0     0.0   137.0     0.0     0.0   \n",
       "5        0.0  ...    77.0     0.0     0.0     0.0     0.0     0.0     0.0   \n",
       "\n",
       "ad_id  122042  122063  122086  \n",
       "0         0.0     0.0     0.0  \n",
       "1         0.0     0.0  1732.0  \n",
       "2         0.0   213.0   317.0  \n",
       "3         0.0    48.0     0.0  \n",
       "4       135.0     0.0     0.0  \n",
       "5        21.0     0.0     0.0  \n",
       "\n",
       "[6 rows x 356 columns]"
      ]
     },
     "execution_count": 15,
     "metadata": {},
     "output_type": "execute_result"
    }
   ],
   "source": [
    "ads_data.groupby(['date', 'ad_id'], as_index=False) \\\n",
    "    .agg({'event': 'count'}) \\\n",
    "    .pivot(index='date', columns = 'ad_id', values='event').reset_index().fillna(0)"
   ]
  },
  {
   "cell_type": "markdown",
   "metadata": {},
   "source": [
    " > **Разобраться, почему случился такой скачок 2019-04-05? Каких событий стало больше? У всех объявлений или только у некоторых?**"
   ]
  },
  {
   "cell_type": "markdown",
   "metadata": {},
   "source": [
    "Нужно разобраться в причине роста метрики\n",
    "\n",
    "Возникает много ***гипотез***:\n",
    "\n",
    "**1. например это какая нибудь черная пятница, когда все рекломадатели решили поставить рекламу, все кликают и тд**\n",
    "\n",
    "**2. или например пришел какой то большой рекламодатель и только он стал крутить больше рекламы**"
   ]
  },
  {
   "cell_type": "code",
   "execution_count": 16,
   "metadata": {},
   "outputs": [
    {
     "data": {
      "text/html": [
       "<div>\n",
       "<style scoped>\n",
       "    .dataframe tbody tr th:only-of-type {\n",
       "        vertical-align: middle;\n",
       "    }\n",
       "\n",
       "    .dataframe tbody tr th {\n",
       "        vertical-align: top;\n",
       "    }\n",
       "\n",
       "    .dataframe thead th {\n",
       "        text-align: right;\n",
       "    }\n",
       "</style>\n",
       "<table border=\"1\" class=\"dataframe\">\n",
       "  <thead>\n",
       "    <tr style=\"text-align: right;\">\n",
       "      <th></th>\n",
       "      <th>ad_id</th>\n",
       "      <th>time</th>\n",
       "    </tr>\n",
       "  </thead>\n",
       "  <tbody>\n",
       "    <tr>\n",
       "      <th>108</th>\n",
       "      <td>112583</td>\n",
       "      <td>2166611</td>\n",
       "    </tr>\n",
       "    <tr>\n",
       "      <th>27</th>\n",
       "      <td>29927</td>\n",
       "      <td>27186</td>\n",
       "    </tr>\n",
       "    <tr>\n",
       "      <th>65</th>\n",
       "      <td>44635</td>\n",
       "      <td>8268</td>\n",
       "    </tr>\n",
       "    <tr>\n",
       "      <th>81</th>\n",
       "      <td>46583</td>\n",
       "      <td>7327</td>\n",
       "    </tr>\n",
       "    <tr>\n",
       "      <th>66</th>\n",
       "      <td>44956</td>\n",
       "      <td>5656</td>\n",
       "    </tr>\n",
       "    <tr>\n",
       "      <th>...</th>\n",
       "      <td>...</td>\n",
       "      <td>...</td>\n",
       "    </tr>\n",
       "    <tr>\n",
       "      <th>77</th>\n",
       "      <td>46433</td>\n",
       "      <td>17</td>\n",
       "    </tr>\n",
       "    <tr>\n",
       "      <th>17</th>\n",
       "      <td>21405</td>\n",
       "      <td>16</td>\n",
       "    </tr>\n",
       "    <tr>\n",
       "      <th>76</th>\n",
       "      <td>46024</td>\n",
       "      <td>16</td>\n",
       "    </tr>\n",
       "    <tr>\n",
       "      <th>112</th>\n",
       "      <td>113867</td>\n",
       "      <td>15</td>\n",
       "    </tr>\n",
       "    <tr>\n",
       "      <th>107</th>\n",
       "      <td>111067</td>\n",
       "      <td>14</td>\n",
       "    </tr>\n",
       "  </tbody>\n",
       "</table>\n",
       "<p>131 rows × 2 columns</p>\n",
       "</div>"
      ],
      "text/plain": [
       "      ad_id     time\n",
       "108  112583  2166611\n",
       "27    29927    27186\n",
       "65    44635     8268\n",
       "81    46583     7327\n",
       "66    44956     5656\n",
       "..      ...      ...\n",
       "77    46433       17\n",
       "17    21405       16\n",
       "76    46024       16\n",
       "112  113867       15\n",
       "107  111067       14\n",
       "\n",
       "[131 rows x 2 columns]"
      ]
     },
     "execution_count": 16,
     "metadata": {},
     "output_type": "execute_result"
    }
   ],
   "source": [
    "ads_data[ads_data.date == '2019-04-05'] \\\n",
    "    .groupby('ad_id', as_index=False) \\\n",
    "    .agg({'time': 'count'}) \\\n",
    "    .sort_values('time', ascending=False)"
   ]
  },
  {
   "cell_type": "code",
   "execution_count": 17,
   "metadata": {},
   "outputs": [],
   "source": [
    "lider_ad_id = ads_data[ads_data.date == '2019-04-05'] \\\n",
    "    .groupby('ad_id', as_index=False) \\\n",
    "    .agg({'time': 'count'}) \\\n",
    "    .sort_values('time', ascending=False).head(1).ad_id"
   ]
  },
  {
   "cell_type": "code",
   "execution_count": 18,
   "metadata": {},
   "outputs": [],
   "source": [
    "lider_ad_id = lider_ad_id[0:]\n",
    "lider_ad_id = 112583"
   ]
  },
  {
   "cell_type": "markdown",
   "metadata": {},
   "source": [
    "Теперь посмотрим что происходило с этим id в другие дни"
   ]
  },
  {
   "cell_type": "code",
   "execution_count": 19,
   "metadata": {},
   "outputs": [
    {
     "data": {
      "text/html": [
       "<div>\n",
       "<style scoped>\n",
       "    .dataframe tbody tr th:only-of-type {\n",
       "        vertical-align: middle;\n",
       "    }\n",
       "\n",
       "    .dataframe tbody tr th {\n",
       "        vertical-align: top;\n",
       "    }\n",
       "\n",
       "    .dataframe thead th {\n",
       "        text-align: right;\n",
       "    }\n",
       "</style>\n",
       "<table border=\"1\" class=\"dataframe\">\n",
       "  <thead>\n",
       "    <tr style=\"text-align: right;\">\n",
       "      <th></th>\n",
       "      <th>time</th>\n",
       "    </tr>\n",
       "    <tr>\n",
       "      <th>date</th>\n",
       "      <th></th>\n",
       "    </tr>\n",
       "  </thead>\n",
       "  <tbody>\n",
       "    <tr>\n",
       "      <th>2019-04-05</th>\n",
       "      <td>2166611</td>\n",
       "    </tr>\n",
       "    <tr>\n",
       "      <th>2019-04-06</th>\n",
       "      <td>348613</td>\n",
       "    </tr>\n",
       "  </tbody>\n",
       "</table>\n",
       "</div>"
      ],
      "text/plain": [
       "               time\n",
       "date               \n",
       "2019-04-05  2166611\n",
       "2019-04-06   348613"
      ]
     },
     "execution_count": 19,
     "metadata": {},
     "output_type": "execute_result"
    }
   ],
   "source": [
    "ads_data.query('ad_id == @lider_ad_id') \\\n",
    "    .groupby('date') \\\n",
    "    .agg({'time': 'count'})"
   ]
  },
  {
   "cell_type": "markdown",
   "metadata": {},
   "source": [
    "Посмотрим что это за клиент такой"
   ]
  },
  {
   "cell_type": "code",
   "execution_count": 20,
   "metadata": {},
   "outputs": [
    {
     "data": {
      "text/html": [
       "<div>\n",
       "<style scoped>\n",
       "    .dataframe tbody tr th:only-of-type {\n",
       "        vertical-align: middle;\n",
       "    }\n",
       "\n",
       "    .dataframe tbody tr th {\n",
       "        vertical-align: top;\n",
       "    }\n",
       "\n",
       "    .dataframe thead th {\n",
       "        text-align: right;\n",
       "    }\n",
       "</style>\n",
       "<table border=\"1\" class=\"dataframe\">\n",
       "  <thead>\n",
       "    <tr style=\"text-align: right;\">\n",
       "      <th></th>\n",
       "      <th>ad_id</th>\n",
       "      <th>time</th>\n",
       "      <th>event</th>\n",
       "      <th>date</th>\n",
       "      <th>ad_cost_type</th>\n",
       "      <th>has_video</th>\n",
       "      <th>client_union_id</th>\n",
       "      <th>campaign_union_id</th>\n",
       "      <th>platform</th>\n",
       "      <th>ad_cost</th>\n",
       "      <th>target_audience_count</th>\n",
       "      <th>user_id</th>\n",
       "      <th>full_date</th>\n",
       "    </tr>\n",
       "  </thead>\n",
       "  <tbody>\n",
       "    <tr>\n",
       "      <th>527124</th>\n",
       "      <td>112583</td>\n",
       "      <td>1554480636</td>\n",
       "      <td>view</td>\n",
       "      <td>2019-04-05</td>\n",
       "      <td>CPM</td>\n",
       "      <td>0</td>\n",
       "      <td>111818</td>\n",
       "      <td>112260</td>\n",
       "      <td>web</td>\n",
       "      <td>199.4</td>\n",
       "      <td>239408</td>\n",
       "      <td>4355</td>\n",
       "      <td>2019-04-05 16:10:36</td>\n",
       "    </tr>\n",
       "    <tr>\n",
       "      <th>527125</th>\n",
       "      <td>112583</td>\n",
       "      <td>1554480636</td>\n",
       "      <td>click</td>\n",
       "      <td>2019-04-05</td>\n",
       "      <td>CPM</td>\n",
       "      <td>0</td>\n",
       "      <td>111818</td>\n",
       "      <td>112260</td>\n",
       "      <td>android</td>\n",
       "      <td>199.4</td>\n",
       "      <td>239408</td>\n",
       "      <td>6243</td>\n",
       "      <td>2019-04-05 16:10:36</td>\n",
       "    </tr>\n",
       "  </tbody>\n",
       "</table>\n",
       "</div>"
      ],
      "text/plain": [
       "         ad_id        time  event       date ad_cost_type  has_video  \\\n",
       "527124  112583  1554480636   view 2019-04-05          CPM          0   \n",
       "527125  112583  1554480636  click 2019-04-05          CPM          0   \n",
       "\n",
       "        client_union_id  campaign_union_id platform  ad_cost  \\\n",
       "527124           111818             112260      web    199.4   \n",
       "527125           111818             112260  android    199.4   \n",
       "\n",
       "        target_audience_count  user_id           full_date  \n",
       "527124                 239408     4355 2019-04-05 16:10:36  \n",
       "527125                 239408     6243 2019-04-05 16:10:36  "
      ]
     },
     "execution_count": 20,
     "metadata": {},
     "output_type": "execute_result"
    }
   ],
   "source": [
    "ads_data.query('ad_id == @lider_ad_id').head(2)"
   ]
  },
  {
   "cell_type": "markdown",
   "metadata": {},
   "source": [
    "Получается это один новый клиент, который оттянул на себя такое большое количесвто просмотров и кликов\n",
    "\n",
    "---\n",
    "---"
   ]
  },
  {
   "cell_type": "markdown",
   "metadata": {},
   "source": [
    " > **2.**   \n",
    " Найти топ 10 объявлений по CTR за все время. CTR — это отношение всех кликов объявлений к просмотрам. Например, если у объявления было 100 показов и 2 клика, CTR = 0.02. Различается ли средний и медианный CTR объявлений в наших данных?\n",
    "Похоже, в наших логах есть баг, объявления приходят с кликами, но без показов! Сколько таких объявлений, есть ли какие-то закономерности? Эта проблема наблюдается на всех платформах?\n"
   ]
  },
  {
   "cell_type": "code",
   "execution_count": 21,
   "metadata": {},
   "outputs": [],
   "source": [
    "click_view = ads_data.groupby(['date', 'event'], as_index=False) \\\n",
    "    .agg({'ad_id': 'count'}) \\\n",
    "    .pivot(index='date', columns='event', values='ad_id').reset_index()"
   ]
  },
  {
   "cell_type": "code",
   "execution_count": 22,
   "metadata": {},
   "outputs": [
    {
     "data": {
      "text/html": [
       "<div>\n",
       "<style scoped>\n",
       "    .dataframe tbody tr th:only-of-type {\n",
       "        vertical-align: middle;\n",
       "    }\n",
       "\n",
       "    .dataframe tbody tr th {\n",
       "        vertical-align: top;\n",
       "    }\n",
       "\n",
       "    .dataframe thead th {\n",
       "        text-align: right;\n",
       "    }\n",
       "</style>\n",
       "<table border=\"1\" class=\"dataframe\">\n",
       "  <thead>\n",
       "    <tr style=\"text-align: right;\">\n",
       "      <th>event</th>\n",
       "      <th>date</th>\n",
       "      <th>click</th>\n",
       "      <th>view</th>\n",
       "    </tr>\n",
       "  </thead>\n",
       "  <tbody>\n",
       "    <tr>\n",
       "      <th>0</th>\n",
       "      <td>2019-04-01</td>\n",
       "      <td>735</td>\n",
       "      <td>34832</td>\n",
       "    </tr>\n",
       "    <tr>\n",
       "      <th>1</th>\n",
       "      <td>2019-04-02</td>\n",
       "      <td>1518</td>\n",
       "      <td>145811</td>\n",
       "    </tr>\n",
       "    <tr>\n",
       "      <th>2</th>\n",
       "      <td>2019-04-03</td>\n",
       "      <td>1678</td>\n",
       "      <td>214851</td>\n",
       "    </tr>\n",
       "    <tr>\n",
       "      <th>3</th>\n",
       "      <td>2019-04-04</td>\n",
       "      <td>1517</td>\n",
       "      <td>126182</td>\n",
       "    </tr>\n",
       "    <tr>\n",
       "      <th>4</th>\n",
       "      <td>2019-04-05</td>\n",
       "      <td>501595</td>\n",
       "      <td>1783288</td>\n",
       "    </tr>\n",
       "    <tr>\n",
       "      <th>5</th>\n",
       "      <td>2019-04-06</td>\n",
       "      <td>80420</td>\n",
       "      <td>284287</td>\n",
       "    </tr>\n",
       "  </tbody>\n",
       "</table>\n",
       "</div>"
      ],
      "text/plain": [
       "event       date   click     view\n",
       "0     2019-04-01     735    34832\n",
       "1     2019-04-02    1518   145811\n",
       "2     2019-04-03    1678   214851\n",
       "3     2019-04-04    1517   126182\n",
       "4     2019-04-05  501595  1783288\n",
       "5     2019-04-06   80420   284287"
      ]
     },
     "execution_count": 22,
     "metadata": {},
     "output_type": "execute_result"
    }
   ],
   "source": [
    "click_view"
   ]
  },
  {
   "cell_type": "code",
   "execution_count": 23,
   "metadata": {},
   "outputs": [],
   "source": [
    "click_view['ratio'] = ((click_view.click / click_view.view) * 100).round(2)"
   ]
  },
  {
   "cell_type": "code",
   "execution_count": 24,
   "metadata": {},
   "outputs": [
    {
     "data": {
      "text/html": [
       "<div>\n",
       "<style scoped>\n",
       "    .dataframe tbody tr th:only-of-type {\n",
       "        vertical-align: middle;\n",
       "    }\n",
       "\n",
       "    .dataframe tbody tr th {\n",
       "        vertical-align: top;\n",
       "    }\n",
       "\n",
       "    .dataframe thead th {\n",
       "        text-align: right;\n",
       "    }\n",
       "</style>\n",
       "<table border=\"1\" class=\"dataframe\">\n",
       "  <thead>\n",
       "    <tr style=\"text-align: right;\">\n",
       "      <th>event</th>\n",
       "      <th>date</th>\n",
       "      <th>click</th>\n",
       "      <th>view</th>\n",
       "      <th>ratio</th>\n",
       "    </tr>\n",
       "  </thead>\n",
       "  <tbody>\n",
       "    <tr>\n",
       "      <th>0</th>\n",
       "      <td>2019-04-01</td>\n",
       "      <td>735</td>\n",
       "      <td>34832</td>\n",
       "      <td>2.11</td>\n",
       "    </tr>\n",
       "    <tr>\n",
       "      <th>1</th>\n",
       "      <td>2019-04-02</td>\n",
       "      <td>1518</td>\n",
       "      <td>145811</td>\n",
       "      <td>1.04</td>\n",
       "    </tr>\n",
       "    <tr>\n",
       "      <th>2</th>\n",
       "      <td>2019-04-03</td>\n",
       "      <td>1678</td>\n",
       "      <td>214851</td>\n",
       "      <td>0.78</td>\n",
       "    </tr>\n",
       "    <tr>\n",
       "      <th>3</th>\n",
       "      <td>2019-04-04</td>\n",
       "      <td>1517</td>\n",
       "      <td>126182</td>\n",
       "      <td>1.20</td>\n",
       "    </tr>\n",
       "    <tr>\n",
       "      <th>4</th>\n",
       "      <td>2019-04-05</td>\n",
       "      <td>501595</td>\n",
       "      <td>1783288</td>\n",
       "      <td>28.13</td>\n",
       "    </tr>\n",
       "    <tr>\n",
       "      <th>5</th>\n",
       "      <td>2019-04-06</td>\n",
       "      <td>80420</td>\n",
       "      <td>284287</td>\n",
       "      <td>28.29</td>\n",
       "    </tr>\n",
       "  </tbody>\n",
       "</table>\n",
       "</div>"
      ],
      "text/plain": [
       "event       date   click     view  ratio\n",
       "0     2019-04-01     735    34832   2.11\n",
       "1     2019-04-02    1518   145811   1.04\n",
       "2     2019-04-03    1678   214851   0.78\n",
       "3     2019-04-04    1517   126182   1.20\n",
       "4     2019-04-05  501595  1783288  28.13\n",
       "5     2019-04-06   80420   284287  28.29"
      ]
     },
     "execution_count": 24,
     "metadata": {},
     "output_type": "execute_result"
    }
   ],
   "source": [
    "click_view"
   ]
  },
  {
   "cell_type": "code",
   "execution_count": 25,
   "metadata": {},
   "outputs": [],
   "source": [
    "click_view_ad_id = ads_data.groupby(['ad_id', 'event'], as_index=False) \\\n",
    "    .agg({'time': 'count'}) \\\n",
    "    .pivot(index='ad_id', columns='event', values='time').reset_index()"
   ]
  },
  {
   "cell_type": "code",
   "execution_count": 26,
   "metadata": {},
   "outputs": [
    {
     "data": {
      "text/html": [
       "<div>\n",
       "<style scoped>\n",
       "    .dataframe tbody tr th:only-of-type {\n",
       "        vertical-align: middle;\n",
       "    }\n",
       "\n",
       "    .dataframe tbody tr th {\n",
       "        vertical-align: top;\n",
       "    }\n",
       "\n",
       "    .dataframe thead th {\n",
       "        text-align: right;\n",
       "    }\n",
       "</style>\n",
       "<table border=\"1\" class=\"dataframe\">\n",
       "  <thead>\n",
       "    <tr style=\"text-align: right;\">\n",
       "      <th>event</th>\n",
       "      <th>ad_id</th>\n",
       "      <th>click</th>\n",
       "      <th>view</th>\n",
       "    </tr>\n",
       "  </thead>\n",
       "  <tbody>\n",
       "    <tr>\n",
       "      <th>0</th>\n",
       "      <td>3</td>\n",
       "      <td>9.0</td>\n",
       "      <td>490.0</td>\n",
       "    </tr>\n",
       "    <tr>\n",
       "      <th>1</th>\n",
       "      <td>2132</td>\n",
       "      <td>1.0</td>\n",
       "      <td>95.0</td>\n",
       "    </tr>\n",
       "    <tr>\n",
       "      <th>2</th>\n",
       "      <td>2276</td>\n",
       "      <td>2.0</td>\n",
       "      <td>1454.0</td>\n",
       "    </tr>\n",
       "    <tr>\n",
       "      <th>3</th>\n",
       "      <td>2475</td>\n",
       "      <td>NaN</td>\n",
       "      <td>132.0</td>\n",
       "    </tr>\n",
       "    <tr>\n",
       "      <th>4</th>\n",
       "      <td>2643</td>\n",
       "      <td>3.0</td>\n",
       "      <td>286.0</td>\n",
       "    </tr>\n",
       "    <tr>\n",
       "      <th>...</th>\n",
       "      <td>...</td>\n",
       "      <td>...</td>\n",
       "      <td>...</td>\n",
       "    </tr>\n",
       "    <tr>\n",
       "      <th>350</th>\n",
       "      <td>121941</td>\n",
       "      <td>1.0</td>\n",
       "      <td>640.0</td>\n",
       "    </tr>\n",
       "    <tr>\n",
       "      <th>351</th>\n",
       "      <td>121943</td>\n",
       "      <td>15.0</td>\n",
       "      <td>1722.0</td>\n",
       "    </tr>\n",
       "    <tr>\n",
       "      <th>352</th>\n",
       "      <td>122042</td>\n",
       "      <td>1.0</td>\n",
       "      <td>155.0</td>\n",
       "    </tr>\n",
       "    <tr>\n",
       "      <th>353</th>\n",
       "      <td>122063</td>\n",
       "      <td>1.0</td>\n",
       "      <td>260.0</td>\n",
       "    </tr>\n",
       "    <tr>\n",
       "      <th>354</th>\n",
       "      <td>122086</td>\n",
       "      <td>50.0</td>\n",
       "      <td>1999.0</td>\n",
       "    </tr>\n",
       "  </tbody>\n",
       "</table>\n",
       "<p>355 rows × 3 columns</p>\n",
       "</div>"
      ],
      "text/plain": [
       "event   ad_id  click    view\n",
       "0           3    9.0   490.0\n",
       "1        2132    1.0    95.0\n",
       "2        2276    2.0  1454.0\n",
       "3        2475    NaN   132.0\n",
       "4        2643    3.0   286.0\n",
       "..        ...    ...     ...\n",
       "350    121941    1.0   640.0\n",
       "351    121943   15.0  1722.0\n",
       "352    122042    1.0   155.0\n",
       "353    122063    1.0   260.0\n",
       "354    122086   50.0  1999.0\n",
       "\n",
       "[355 rows x 3 columns]"
      ]
     },
     "execution_count": 26,
     "metadata": {},
     "output_type": "execute_result"
    }
   ],
   "source": [
    "click_view_ad_id"
   ]
  },
  {
   "cell_type": "markdown",
   "metadata": {},
   "source": [
    "Делаем новый столбец по другому, подходит когда делаем два столбца за раз или более"
   ]
  },
  {
   "cell_type": "code",
   "execution_count": 27,
   "metadata": {},
   "outputs": [],
   "source": [
    "click_view_ad_id = click_view_ad_id.assign(ctr = click_view_ad_id.click / click_view_ad_id.view, \n",
    "                                           ctr_per = ((click_view_ad_id.click / click_view_ad_id.view)*100).round(2))"
   ]
  },
  {
   "cell_type": "code",
   "execution_count": 28,
   "metadata": {},
   "outputs": [
    {
     "data": {
      "text/html": [
       "<div>\n",
       "<style scoped>\n",
       "    .dataframe tbody tr th:only-of-type {\n",
       "        vertical-align: middle;\n",
       "    }\n",
       "\n",
       "    .dataframe tbody tr th {\n",
       "        vertical-align: top;\n",
       "    }\n",
       "\n",
       "    .dataframe thead th {\n",
       "        text-align: right;\n",
       "    }\n",
       "</style>\n",
       "<table border=\"1\" class=\"dataframe\">\n",
       "  <thead>\n",
       "    <tr style=\"text-align: right;\">\n",
       "      <th>event</th>\n",
       "      <th>ad_id</th>\n",
       "      <th>click</th>\n",
       "      <th>view</th>\n",
       "      <th>ctr</th>\n",
       "      <th>ctr_per</th>\n",
       "    </tr>\n",
       "  </thead>\n",
       "  <tbody>\n",
       "    <tr>\n",
       "      <th>289</th>\n",
       "      <td>112583</td>\n",
       "      <td>580436.0</td>\n",
       "      <td>1934788.0</td>\n",
       "      <td>0.300000</td>\n",
       "      <td>30.00</td>\n",
       "    </tr>\n",
       "    <tr>\n",
       "      <th>324</th>\n",
       "      <td>119450</td>\n",
       "      <td>258.0</td>\n",
       "      <td>1254.0</td>\n",
       "      <td>0.205742</td>\n",
       "      <td>20.57</td>\n",
       "    </tr>\n",
       "    <tr>\n",
       "      <th>125</th>\n",
       "      <td>38575</td>\n",
       "      <td>43.0</td>\n",
       "      <td>257.0</td>\n",
       "      <td>0.167315</td>\n",
       "      <td>16.73</td>\n",
       "    </tr>\n",
       "    <tr>\n",
       "      <th>144</th>\n",
       "      <td>40968</td>\n",
       "      <td>29.0</td>\n",
       "      <td>217.0</td>\n",
       "      <td>0.133641</td>\n",
       "      <td>13.36</td>\n",
       "    </tr>\n",
       "    <tr>\n",
       "      <th>207</th>\n",
       "      <td>45642</td>\n",
       "      <td>42.0</td>\n",
       "      <td>344.0</td>\n",
       "      <td>0.122093</td>\n",
       "      <td>12.21</td>\n",
       "    </tr>\n",
       "    <tr>\n",
       "      <th>283</th>\n",
       "      <td>110924</td>\n",
       "      <td>11.0</td>\n",
       "      <td>95.0</td>\n",
       "      <td>0.115789</td>\n",
       "      <td>11.58</td>\n",
       "    </tr>\n",
       "    <tr>\n",
       "      <th>194</th>\n",
       "      <td>45043</td>\n",
       "      <td>28.0</td>\n",
       "      <td>245.0</td>\n",
       "      <td>0.114286</td>\n",
       "      <td>11.43</td>\n",
       "    </tr>\n",
       "    <tr>\n",
       "      <th>96</th>\n",
       "      <td>35034</td>\n",
       "      <td>112.0</td>\n",
       "      <td>997.0</td>\n",
       "      <td>0.112337</td>\n",
       "      <td>11.23</td>\n",
       "    </tr>\n",
       "    <tr>\n",
       "      <th>5</th>\n",
       "      <td>4585</td>\n",
       "      <td>53.0</td>\n",
       "      <td>476.0</td>\n",
       "      <td>0.111345</td>\n",
       "      <td>11.13</td>\n",
       "    </tr>\n",
       "    <tr>\n",
       "      <th>328</th>\n",
       "      <td>120347</td>\n",
       "      <td>236.0</td>\n",
       "      <td>2168.0</td>\n",
       "      <td>0.108856</td>\n",
       "      <td>10.89</td>\n",
       "    </tr>\n",
       "  </tbody>\n",
       "</table>\n",
       "</div>"
      ],
      "text/plain": [
       "event   ad_id     click       view       ctr  ctr_per\n",
       "289    112583  580436.0  1934788.0  0.300000    30.00\n",
       "324    119450     258.0     1254.0  0.205742    20.57\n",
       "125     38575      43.0      257.0  0.167315    16.73\n",
       "144     40968      29.0      217.0  0.133641    13.36\n",
       "207     45642      42.0      344.0  0.122093    12.21\n",
       "283    110924      11.0       95.0  0.115789    11.58\n",
       "194     45043      28.0      245.0  0.114286    11.43\n",
       "96      35034     112.0      997.0  0.112337    11.23\n",
       "5        4585      53.0      476.0  0.111345    11.13\n",
       "328    120347     236.0     2168.0  0.108856    10.89"
      ]
     },
     "execution_count": 28,
     "metadata": {},
     "output_type": "execute_result"
    }
   ],
   "source": [
    "click_view_ad_id.sort_values('ctr', ascending=False).head(10)"
   ]
  },
  {
   "cell_type": "code",
   "execution_count": 29,
   "metadata": {},
   "outputs": [
    {
     "data": {
      "text/plain": [
       "0.010753240746688594"
      ]
     },
     "execution_count": 29,
     "metadata": {},
     "output_type": "execute_result"
    }
   ],
   "source": [
    "click_view_ad_id.ctr.median()"
   ]
  },
  {
   "cell_type": "code",
   "execution_count": 30,
   "metadata": {},
   "outputs": [
    {
     "data": {
      "text/plain": [
       "0.020628096080757954"
      ]
     },
     "execution_count": 30,
     "metadata": {},
     "output_type": "execute_result"
    }
   ],
   "source": [
    "click_view_ad_id.ctr.mean()"
   ]
  },
  {
   "cell_type": "code",
   "execution_count": 31,
   "metadata": {},
   "outputs": [
    {
     "data": {
      "text/plain": [
       "<seaborn.axisgrid.FacetGrid at 0x7f4fcd36cf98>"
      ]
     },
     "execution_count": 31,
     "metadata": {},
     "output_type": "execute_result"
    },
    {
     "data": {
      "image/png": "[encoded data removed]",
      "text/plain": [
       "<Figure size 360x360 with 1 Axes>"
      ]
     },
     "metadata": {
      "needs_background": "light"
     },
     "output_type": "display_data"
    }
   ],
   "source": [
    "sns.displot(click_view_ad_id.ctr, kde=True)"
   ]
  },
  {
   "cell_type": "markdown",
   "metadata": {},
   "source": [
    "***Медиана*** лучше характерезует наши ctr так раз отражает более реальную картинуб чем среднее арифметическое."
   ]
  },
  {
   "cell_type": "code",
   "execution_count": 32,
   "metadata": {},
   "outputs": [],
   "source": [
    "data = click_view_ad_id.fillna(0)"
   ]
  },
  {
   "cell_type": "code",
   "execution_count": 33,
   "metadata": {},
   "outputs": [],
   "source": [
    "ad_id_bug = data.query('click == 0').ad_id"
   ]
  },
  {
   "cell_type": "code",
   "execution_count": 34,
   "metadata": {},
   "outputs": [
    {
     "data": {
      "text/html": [
       "<div>\n",
       "<style scoped>\n",
       "    .dataframe tbody tr th:only-of-type {\n",
       "        vertical-align: middle;\n",
       "    }\n",
       "\n",
       "    .dataframe tbody tr th {\n",
       "        vertical-align: top;\n",
       "    }\n",
       "\n",
       "    .dataframe thead th {\n",
       "        text-align: right;\n",
       "    }\n",
       "</style>\n",
       "<table border=\"1\" class=\"dataframe\">\n",
       "  <thead>\n",
       "    <tr style=\"text-align: right;\">\n",
       "      <th></th>\n",
       "      <th>platform</th>\n",
       "      <th>ad_id</th>\n",
       "    </tr>\n",
       "  </thead>\n",
       "  <tbody>\n",
       "    <tr>\n",
       "      <th>0</th>\n",
       "      <td>android</td>\n",
       "      <td>4906</td>\n",
       "    </tr>\n",
       "    <tr>\n",
       "      <th>1</th>\n",
       "      <td>ios</td>\n",
       "      <td>3075</td>\n",
       "    </tr>\n",
       "    <tr>\n",
       "      <th>2</th>\n",
       "      <td>web</td>\n",
       "      <td>1988</td>\n",
       "    </tr>\n",
       "  </tbody>\n",
       "</table>\n",
       "</div>"
      ],
      "text/plain": [
       "  platform  ad_id\n",
       "0  android   4906\n",
       "1      ios   3075\n",
       "2      web   1988"
      ]
     },
     "execution_count": 34,
     "metadata": {},
     "output_type": "execute_result"
    }
   ],
   "source": [
    "#только те события, которые были у нас в списке багованных ad_id_bug\n",
    "ads_data[ads_data.ad_id.isin(ad_id_bug)] \\\n",
    "    .groupby('platform', as_index=False) \\\n",
    "    .agg({'ad_id':'count'}) \\\n",
    "    .sort_values('ad_id', ascending=False)"
   ]
  },
  {
   "cell_type": "code",
   "execution_count": 35,
   "metadata": {},
   "outputs": [
    {
     "data": {
      "text/html": [
       "<div>\n",
       "<style scoped>\n",
       "    .dataframe tbody tr th:only-of-type {\n",
       "        vertical-align: middle;\n",
       "    }\n",
       "\n",
       "    .dataframe tbody tr th {\n",
       "        vertical-align: top;\n",
       "    }\n",
       "\n",
       "    .dataframe thead th {\n",
       "        text-align: right;\n",
       "    }\n",
       "</style>\n",
       "<table border=\"1\" class=\"dataframe\">\n",
       "  <thead>\n",
       "    <tr style=\"text-align: right;\">\n",
       "      <th></th>\n",
       "      <th>platform</th>\n",
       "      <th>ad_id</th>\n",
       "    </tr>\n",
       "  </thead>\n",
       "  <tbody>\n",
       "    <tr>\n",
       "      <th>0</th>\n",
       "      <td>android</td>\n",
       "      <td>1588211</td>\n",
       "    </tr>\n",
       "    <tr>\n",
       "      <th>1</th>\n",
       "      <td>ios</td>\n",
       "      <td>953078</td>\n",
       "    </tr>\n",
       "    <tr>\n",
       "      <th>2</th>\n",
       "      <td>web</td>\n",
       "      <td>635425</td>\n",
       "    </tr>\n",
       "  </tbody>\n",
       "</table>\n",
       "</div>"
      ],
      "text/plain": [
       "  platform    ad_id\n",
       "0  android  1588211\n",
       "1      ios   953078\n",
       "2      web   635425"
      ]
     },
     "execution_count": 35,
     "metadata": {},
     "output_type": "execute_result"
    }
   ],
   "source": [
    "ads_data \\\n",
    "    .groupby('platform', as_index=False) \\\n",
    "    .agg({'ad_id':'count'}) \\\n",
    "    .sort_values('ad_id', ascending=False)"
   ]
  },
  {
   "cell_type": "markdown",
   "metadata": {},
   "source": [
    "---\n",
    "---"
   ]
  },
  {
   "cell_type": "markdown",
   "metadata": {},
   "source": [
    " > **3.**   \n",
    " Есть ли различия в CTR у объявлений с видео и без? А чему равняется 95 процентиль CTR по всем объявлениям за 2019-04-04?\n"
   ]
  },
  {
   "cell_type": "markdown",
   "metadata": {},
   "source": [
    "Создадим датафрейм со всеми данными но включая CTR"
   ]
  },
  {
   "cell_type": "code",
   "execution_count": 36,
   "metadata": {},
   "outputs": [],
   "source": [
    "ads_data_ctr = ads_data.merge(data, on='ad_id', how='left')"
   ]
  },
  {
   "cell_type": "markdown",
   "metadata": {},
   "source": [
    "Проверим Нет ли потерянных данных в ctr?"
   ]
  },
  {
   "cell_type": "code",
   "execution_count": 37,
   "metadata": {},
   "outputs": [
    {
     "data": {
      "text/plain": [
       "array([ 0.89,  1.7 ,  4.81, 11.13,  0.2 ,  1.31,  0.18,  2.02,  1.14,\n",
       "        0.68,  0.75,  2.46,  0.29, 16.73,  1.76,  0.  ,  0.69,  1.71,\n",
       "        0.73,  2.35,  4.92,  0.91,  0.84,  5.32,  1.59,  0.35,  2.55,\n",
       "        2.65,  4.79,  0.82,  0.41,  1.9 ,  2.93, 11.43,  3.25,  8.33,\n",
       "        1.97,  0.13,  0.59,  0.17,  1.66,  0.37,  0.62,  0.97,  0.31,\n",
       "        2.08,  0.3 ,  0.09,  1.02,  1.41,  0.38,  4.27,  2.99,  2.5 ,\n",
       "        0.1 ,  0.76,  0.52,  4.45,  2.73,  1.48,  1.53,  1.47,  1.12,\n",
       "        0.66,  3.14,  0.55,  0.19,  1.43,  2.61,  0.23,  0.9 ,  2.69,\n",
       "        0.87,  1.19,  4.31,  3.65,  0.34,  0.83,  1.61,  0.26,  3.48,\n",
       "        4.58,  0.88,  2.33,  4.47,  0.99,  1.22,  0.44,  7.55,  4.8 ,\n",
       "        2.92,  1.04,  6.03,  0.28,  0.43,  2.81,  0.74,  1.01,  4.17,\n",
       "        1.56,  0.65,  1.23,  4.46,  0.7 ,  9.73,  1.68,  0.11,  2.91,\n",
       "        0.92,  6.28,  3.45,  0.47,  1.57,  0.95,  1.07,  1.06, 12.21,\n",
       "        0.05,  0.6 ,  0.64,  3.7 ,  2.38,  0.16,  3.98,  1.11,  4.03,\n",
       "        1.92,  0.48, 13.36,  2.26,  2.42,  1.15,  1.69,  1.08,  8.02,\n",
       "        1.33,  1.6 ,  1.28,  5.16,  3.08,  0.45,  3.73,  0.85,  0.36,\n",
       "        0.15,  0.51,  1.09,  1.2 ,  1.54,  0.93,  2.37,  1.8 ,  0.79,\n",
       "       20.57,  0.14,  0.32,  5.07,  2.54,  5.23,  2.94,  0.06, 10.89,\n",
       "        1.55,  3.36,  1.25,  0.54,  4.68,  0.4 ,  2.96,  2.06,  4.13,\n",
       "        0.25,  0.77, 11.58,  3.6 ,  0.86,  2.14,  2.41,  0.49,  3.85,\n",
       "       30.  ,  3.05,  2.39,  2.11,  1.16,  4.18,  1.05,  1.45,  1.4 ,\n",
       "        1.84,  1.72,  0.21,  2.4 , 11.23,  1.89,  1.32,  0.42,  0.8 ,\n",
       "        3.46,  2.45,  2.7 ,  0.27,  2.16,  4.76,  4.55,  7.5 ])"
      ]
     },
     "execution_count": 37,
     "metadata": {},
     "output_type": "execute_result"
    }
   ],
   "source": [
    "ads_data_ctr.ctr_per.unique()"
   ]
  },
  {
   "cell_type": "code",
   "execution_count": 38,
   "metadata": {},
   "outputs": [
    {
     "data": {
      "text/html": [
       "<div>\n",
       "<style scoped>\n",
       "    .dataframe tbody tr th:only-of-type {\n",
       "        vertical-align: middle;\n",
       "    }\n",
       "\n",
       "    .dataframe tbody tr th {\n",
       "        vertical-align: top;\n",
       "    }\n",
       "\n",
       "    .dataframe thead th {\n",
       "        text-align: right;\n",
       "    }\n",
       "</style>\n",
       "<table border=\"1\" class=\"dataframe\">\n",
       "  <thead>\n",
       "    <tr style=\"text-align: right;\">\n",
       "      <th></th>\n",
       "      <th>has_video</th>\n",
       "      <th>ctr_per</th>\n",
       "    </tr>\n",
       "  </thead>\n",
       "  <tbody>\n",
       "    <tr>\n",
       "      <th>0</th>\n",
       "      <td>0</td>\n",
       "      <td>24.026980</td>\n",
       "    </tr>\n",
       "    <tr>\n",
       "      <th>1</th>\n",
       "      <td>1</td>\n",
       "      <td>0.268201</td>\n",
       "    </tr>\n",
       "  </tbody>\n",
       "</table>\n",
       "</div>"
      ],
      "text/plain": [
       "   has_video    ctr_per\n",
       "0          0  24.026980\n",
       "1          1   0.268201"
      ]
     },
     "execution_count": 38,
     "metadata": {},
     "output_type": "execute_result"
    }
   ],
   "source": [
    "ads_data_ctr.groupby('has_video', as_index=False) \\\n",
    "    .agg({'ctr_per': 'mean'}) \\\n",
    "    .sort_values('ctr_per', ascending=False)"
   ]
  },
  {
   "cell_type": "code",
   "execution_count": 39,
   "metadata": {},
   "outputs": [
    {
     "data": {
      "text/html": [
       "<div>\n",
       "<style scoped>\n",
       "    .dataframe tbody tr th:only-of-type {\n",
       "        vertical-align: middle;\n",
       "    }\n",
       "\n",
       "    .dataframe tbody tr th {\n",
       "        vertical-align: top;\n",
       "    }\n",
       "\n",
       "    .dataframe thead th {\n",
       "        text-align: right;\n",
       "    }\n",
       "</style>\n",
       "<table border=\"1\" class=\"dataframe\">\n",
       "  <thead>\n",
       "    <tr style=\"text-align: right;\">\n",
       "      <th></th>\n",
       "      <th>has_video</th>\n",
       "      <th>ctr_per</th>\n",
       "    </tr>\n",
       "  </thead>\n",
       "  <tbody>\n",
       "    <tr>\n",
       "      <th>0</th>\n",
       "      <td>0</td>\n",
       "      <td>30.00</td>\n",
       "    </tr>\n",
       "    <tr>\n",
       "      <th>1</th>\n",
       "      <td>1</td>\n",
       "      <td>0.17</td>\n",
       "    </tr>\n",
       "  </tbody>\n",
       "</table>\n",
       "</div>"
      ],
      "text/plain": [
       "   has_video  ctr_per\n",
       "0          0    30.00\n",
       "1          1     0.17"
      ]
     },
     "execution_count": 39,
     "metadata": {},
     "output_type": "execute_result"
    }
   ],
   "source": [
    "ads_data_ctr.groupby('has_video', as_index=False) \\\n",
    "    .agg({'ctr_per': 'median'}) \\\n",
    "    .sort_values('ctr_per', ascending=False)"
   ]
  },
  {
   "cell_type": "code",
   "execution_count": 40,
   "metadata": {},
   "outputs": [
    {
     "data": {
      "text/html": [
       "<div>\n",
       "<style scoped>\n",
       "    .dataframe tbody tr th:only-of-type {\n",
       "        vertical-align: middle;\n",
       "    }\n",
       "\n",
       "    .dataframe tbody tr th {\n",
       "        vertical-align: top;\n",
       "    }\n",
       "\n",
       "    .dataframe thead th {\n",
       "        text-align: right;\n",
       "    }\n",
       "</style>\n",
       "<table border=\"1\" class=\"dataframe\">\n",
       "  <thead>\n",
       "    <tr style=\"text-align: right;\">\n",
       "      <th></th>\n",
       "      <th>has_video</th>\n",
       "      <th>ctr_per</th>\n",
       "    </tr>\n",
       "  </thead>\n",
       "  <tbody>\n",
       "    <tr>\n",
       "      <th>0</th>\n",
       "      <td>0</td>\n",
       "      <td>11.739180</td>\n",
       "    </tr>\n",
       "    <tr>\n",
       "      <th>1</th>\n",
       "      <td>1</td>\n",
       "      <td>0.256922</td>\n",
       "    </tr>\n",
       "  </tbody>\n",
       "</table>\n",
       "</div>"
      ],
      "text/plain": [
       "   has_video    ctr_per\n",
       "0          0  11.739180\n",
       "1          1   0.256922"
      ]
     },
     "execution_count": 40,
     "metadata": {},
     "output_type": "execute_result"
    }
   ],
   "source": [
    "ads_data_ctr.groupby('has_video', as_index=False) \\\n",
    "    .agg({'ctr_per': 'std'}) \\\n",
    "    .sort_values('ctr_per', ascending=False)"
   ]
  },
  {
   "cell_type": "markdown",
   "metadata": {},
   "source": [
    "Есть ли различия в CTR у объявлений с видео и без? \n",
    "\n",
    "**Да, у объявлений без видео CTR намного выше**"
   ]
  },
  {
   "cell_type": "markdown",
   "metadata": {},
   "source": [
    "А чему равняется 95 процентиль CTR по всем объявлениям за 2019-04-04?"
   ]
  },
  {
   "cell_type": "code",
   "execution_count": 41,
   "metadata": {},
   "outputs": [
    {
     "data": {
      "text/html": [
       "<div>\n",
       "<style scoped>\n",
       "    .dataframe tbody tr th:only-of-type {\n",
       "        vertical-align: middle;\n",
       "    }\n",
       "\n",
       "    .dataframe tbody tr th {\n",
       "        vertical-align: top;\n",
       "    }\n",
       "\n",
       "    .dataframe thead th {\n",
       "        text-align: right;\n",
       "    }\n",
       "</style>\n",
       "<table border=\"1\" class=\"dataframe\">\n",
       "  <thead>\n",
       "    <tr style=\"text-align: right;\">\n",
       "      <th>event</th>\n",
       "      <th>ad_id</th>\n",
       "      <th>click</th>\n",
       "      <th>view</th>\n",
       "      <th>ctr</th>\n",
       "    </tr>\n",
       "  </thead>\n",
       "  <tbody>\n",
       "    <tr>\n",
       "      <th>0</th>\n",
       "      <td>9071</td>\n",
       "      <td>3.0</td>\n",
       "      <td>352.0</td>\n",
       "      <td>0.008523</td>\n",
       "    </tr>\n",
       "    <tr>\n",
       "      <th>1</th>\n",
       "      <td>9776</td>\n",
       "      <td>37.0</td>\n",
       "      <td>1115.0</td>\n",
       "      <td>0.033184</td>\n",
       "    </tr>\n",
       "    <tr>\n",
       "      <th>2</th>\n",
       "      <td>10601</td>\n",
       "      <td>3.0</td>\n",
       "      <td>848.0</td>\n",
       "      <td>0.003538</td>\n",
       "    </tr>\n",
       "    <tr>\n",
       "      <th>3</th>\n",
       "      <td>11887</td>\n",
       "      <td>151.0</td>\n",
       "      <td>8720.0</td>\n",
       "      <td>0.017317</td>\n",
       "    </tr>\n",
       "    <tr>\n",
       "      <th>4</th>\n",
       "      <td>12137</td>\n",
       "      <td>1.0</td>\n",
       "      <td>170.0</td>\n",
       "      <td>0.005882</td>\n",
       "    </tr>\n",
       "    <tr>\n",
       "      <th>...</th>\n",
       "      <td>...</td>\n",
       "      <td>...</td>\n",
       "      <td>...</td>\n",
       "      <td>...</td>\n",
       "    </tr>\n",
       "    <tr>\n",
       "      <th>145</th>\n",
       "      <td>120790</td>\n",
       "      <td>0.0</td>\n",
       "      <td>19.0</td>\n",
       "      <td>0.000000</td>\n",
       "    </tr>\n",
       "    <tr>\n",
       "      <th>146</th>\n",
       "      <td>121779</td>\n",
       "      <td>68.0</td>\n",
       "      <td>1116.0</td>\n",
       "      <td>0.060932</td>\n",
       "    </tr>\n",
       "    <tr>\n",
       "      <th>147</th>\n",
       "      <td>121790</td>\n",
       "      <td>7.0</td>\n",
       "      <td>701.0</td>\n",
       "      <td>0.009986</td>\n",
       "    </tr>\n",
       "    <tr>\n",
       "      <th>148</th>\n",
       "      <td>121941</td>\n",
       "      <td>0.0</td>\n",
       "      <td>95.0</td>\n",
       "      <td>0.000000</td>\n",
       "    </tr>\n",
       "    <tr>\n",
       "      <th>149</th>\n",
       "      <td>122063</td>\n",
       "      <td>0.0</td>\n",
       "      <td>48.0</td>\n",
       "      <td>0.000000</td>\n",
       "    </tr>\n",
       "  </tbody>\n",
       "</table>\n",
       "<p>150 rows × 4 columns</p>\n",
       "</div>"
      ],
      "text/plain": [
       "event   ad_id  click    view       ctr\n",
       "0        9071    3.0   352.0  0.008523\n",
       "1        9776   37.0  1115.0  0.033184\n",
       "2       10601    3.0   848.0  0.003538\n",
       "3       11887  151.0  8720.0  0.017317\n",
       "4       12137    1.0   170.0  0.005882\n",
       "..        ...    ...     ...       ...\n",
       "145    120790    0.0    19.0  0.000000\n",
       "146    121779   68.0  1116.0  0.060932\n",
       "147    121790    7.0   701.0  0.009986\n",
       "148    121941    0.0    95.0  0.000000\n",
       "149    122063    0.0    48.0  0.000000\n",
       "\n",
       "[150 rows x 4 columns]"
      ]
     },
     "execution_count": 41,
     "metadata": {},
     "output_type": "execute_result"
    }
   ],
   "source": [
    "df_04_04_2019 = ads_data.query('date == \"2019-04-04\"') \\\n",
    "    .groupby(['ad_id', 'event'], as_index=False) \\\n",
    "    .agg({'time': 'count'}) \\\n",
    "    .pivot(index='ad_id', columns='event', values='time').reset_index() \\\n",
    "    .fillna(0)\n",
    "\n",
    "df_04_04_2019['ctr'] = df_04_04_2019.click / df_04_04_2019.view\n",
    "df_04_04_2019"
   ]
  },
  {
   "cell_type": "code",
   "execution_count": 42,
   "metadata": {},
   "outputs": [
    {
     "data": {
      "text/html": [
       "<div>\n",
       "<style scoped>\n",
       "    .dataframe tbody tr th:only-of-type {\n",
       "        vertical-align: middle;\n",
       "    }\n",
       "\n",
       "    .dataframe tbody tr th {\n",
       "        vertical-align: top;\n",
       "    }\n",
       "\n",
       "    .dataframe thead th {\n",
       "        text-align: right;\n",
       "    }\n",
       "</style>\n",
       "<table border=\"1\" class=\"dataframe\">\n",
       "  <thead>\n",
       "    <tr style=\"text-align: right;\">\n",
       "      <th>event</th>\n",
       "      <th>ad_id</th>\n",
       "      <th>click</th>\n",
       "      <th>view</th>\n",
       "      <th>ctr</th>\n",
       "    </tr>\n",
       "  </thead>\n",
       "  <tbody>\n",
       "    <tr>\n",
       "      <th>count</th>\n",
       "      <td>109.000000</td>\n",
       "      <td>109.000000</td>\n",
       "      <td>109.000000</td>\n",
       "      <td>109.000000</td>\n",
       "    </tr>\n",
       "    <tr>\n",
       "      <th>mean</th>\n",
       "      <td>61752.256881</td>\n",
       "      <td>13.917431</td>\n",
       "      <td>1127.431193</td>\n",
       "      <td>0.025617</td>\n",
       "    </tr>\n",
       "    <tr>\n",
       "      <th>std</th>\n",
       "      <td>39125.806095</td>\n",
       "      <td>33.256057</td>\n",
       "      <td>2473.741062</td>\n",
       "      <td>0.033548</td>\n",
       "    </tr>\n",
       "    <tr>\n",
       "      <th>min</th>\n",
       "      <td>9071.000000</td>\n",
       "      <td>1.000000</td>\n",
       "      <td>18.000000</td>\n",
       "      <td>0.000534</td>\n",
       "    </tr>\n",
       "    <tr>\n",
       "      <th>50%</th>\n",
       "      <td>45436.000000</td>\n",
       "      <td>3.000000</td>\n",
       "      <td>337.000000</td>\n",
       "      <td>0.012658</td>\n",
       "    </tr>\n",
       "    <tr>\n",
       "      <th>95%</th>\n",
       "      <td>120433.400000</td>\n",
       "      <td>59.800000</td>\n",
       "      <td>4036.200000</td>\n",
       "      <td>0.102115</td>\n",
       "    </tr>\n",
       "    <tr>\n",
       "      <th>max</th>\n",
       "      <td>121790.000000</td>\n",
       "      <td>217.000000</td>\n",
       "      <td>18158.000000</td>\n",
       "      <td>0.209056</td>\n",
       "    </tr>\n",
       "  </tbody>\n",
       "</table>\n",
       "</div>"
      ],
      "text/plain": [
       "event          ad_id       click          view         ctr\n",
       "count     109.000000  109.000000    109.000000  109.000000\n",
       "mean    61752.256881   13.917431   1127.431193    0.025617\n",
       "std     39125.806095   33.256057   2473.741062    0.033548\n",
       "min      9071.000000    1.000000     18.000000    0.000534\n",
       "50%     45436.000000    3.000000    337.000000    0.012658\n",
       "95%    120433.400000   59.800000   4036.200000    0.102115\n",
       "max    121790.000000  217.000000  18158.000000    0.209056"
      ]
     },
     "execution_count": 42,
     "metadata": {},
     "output_type": "execute_result"
    }
   ],
   "source": [
    "df_95 = df_04_04_2019.query('click > 0').describe(percentiles=[.95])\n",
    "df_95"
   ]
  },
  {
   "cell_type": "code",
   "execution_count": 43,
   "metadata": {},
   "outputs": [],
   "source": [
    "# for index, row in df_95.iterrows():\n",
    "#     print(index[4],row[3])\n",
    "    \n",
    "df_95_perc = df_95['ctr'][5]"
   ]
  },
  {
   "cell_type": "markdown",
   "metadata": {},
   "source": [
    "То же смое проще"
   ]
  },
  {
   "cell_type": "code",
   "execution_count": 44,
   "metadata": {},
   "outputs": [
    {
     "data": {
      "text/plain": [
       "0.10211538461538454"
      ]
     },
     "execution_count": 44,
     "metadata": {},
     "output_type": "execute_result"
    }
   ],
   "source": [
    "df_04_04_2019.query('click > 0').ctr.quantile(q=0.95)"
   ]
  },
  {
   "cell_type": "markdown",
   "metadata": {},
   "source": [
    "---"
   ]
  },
  {
   "cell_type": "code",
   "execution_count": 45,
   "metadata": {},
   "outputs": [
    {
     "data": {
      "text/plain": [
       "'95й процентиль CTR по всем объявлениям за 2019-04-04 равен 0.10211538461538454 или 10.21%'"
      ]
     },
     "execution_count": 45,
     "metadata": {},
     "output_type": "execute_result"
    }
   ],
   "source": [
    "'95й процентиль CTR по всем объявлениям за 2019-04-04 равен {} или {}%'.format(df_95_perc, (100*df_95_perc).round(2))\n"
   ]
  },
  {
   "cell_type": "markdown",
   "metadata": {},
   "source": [
    "---"
   ]
  },
  {
   "cell_type": "markdown",
   "metadata": {},
   "source": [
    " >**4.**\n",
    " \n",
    "  > Для финансового отчета нужно рассчитать наш заработок по дням. \n",
    "  > В какой день мы заработали больше всего? В какой меньше? \n",
    "  >Мы списываем с клиентов деньги, если произошел клик по CPC объявлению, и мы списываем деньги за каждый показ CPM объявления, если у CPM объявления цена 200 рублей, то за один показ мы зарабатываем ```200 / 1000```."
   ]
  },
  {
   "cell_type": "code",
   "execution_count": 46,
   "metadata": {},
   "outputs": [
    {
     "data": {
      "text/html": [
       "<div>\n",
       "<style scoped>\n",
       "    .dataframe tbody tr th:only-of-type {\n",
       "        vertical-align: middle;\n",
       "    }\n",
       "\n",
       "    .dataframe tbody tr th {\n",
       "        vertical-align: top;\n",
       "    }\n",
       "\n",
       "    .dataframe thead th {\n",
       "        text-align: right;\n",
       "    }\n",
       "</style>\n",
       "<table border=\"1\" class=\"dataframe\">\n",
       "  <thead>\n",
       "    <tr style=\"text-align: right;\">\n",
       "      <th></th>\n",
       "      <th>ad_id</th>\n",
       "      <th>time</th>\n",
       "      <th>event</th>\n",
       "      <th>date</th>\n",
       "      <th>ad_cost_type</th>\n",
       "      <th>has_video</th>\n",
       "      <th>client_union_id</th>\n",
       "      <th>campaign_union_id</th>\n",
       "      <th>platform</th>\n",
       "      <th>ad_cost</th>\n",
       "      <th>target_audience_count</th>\n",
       "      <th>user_id</th>\n",
       "      <th>full_date</th>\n",
       "    </tr>\n",
       "  </thead>\n",
       "  <tbody>\n",
       "    <tr>\n",
       "      <th>248</th>\n",
       "      <td>4585</td>\n",
       "      <td>1554135960</td>\n",
       "      <td>click</td>\n",
       "      <td>2019-04-01</td>\n",
       "      <td>CPC</td>\n",
       "      <td>0</td>\n",
       "      <td>37</td>\n",
       "      <td>4382</td>\n",
       "      <td>android</td>\n",
       "      <td>53.5</td>\n",
       "      <td>327648</td>\n",
       "      <td>538</td>\n",
       "      <td>2019-04-01 16:26:00</td>\n",
       "    </tr>\n",
       "    <tr>\n",
       "      <th>880</th>\n",
       "      <td>120444</td>\n",
       "      <td>1554136218</td>\n",
       "      <td>click</td>\n",
       "      <td>2019-04-01</td>\n",
       "      <td>CPC</td>\n",
       "      <td>0</td>\n",
       "      <td>120413</td>\n",
       "      <td>120440</td>\n",
       "      <td>android</td>\n",
       "      <td>52.0</td>\n",
       "      <td>4667</td>\n",
       "      <td>874</td>\n",
       "      <td>2019-04-01 16:30:18</td>\n",
       "    </tr>\n",
       "    <tr>\n",
       "      <th>1011</th>\n",
       "      <td>38110</td>\n",
       "      <td>1554136457</td>\n",
       "      <td>click</td>\n",
       "      <td>2019-04-01</td>\n",
       "      <td>CPC</td>\n",
       "      <td>0</td>\n",
       "      <td>23359</td>\n",
       "      <td>38110</td>\n",
       "      <td>android</td>\n",
       "      <td>54.1</td>\n",
       "      <td>4181</td>\n",
       "      <td>239</td>\n",
       "      <td>2019-04-01 16:34:17</td>\n",
       "    </tr>\n",
       "    <tr>\n",
       "      <th>1569</th>\n",
       "      <td>38575</td>\n",
       "      <td>1554133580</td>\n",
       "      <td>click</td>\n",
       "      <td>2019-04-01</td>\n",
       "      <td>CPC</td>\n",
       "      <td>0</td>\n",
       "      <td>23533</td>\n",
       "      <td>38575</td>\n",
       "      <td>android</td>\n",
       "      <td>44.8</td>\n",
       "      <td>21831</td>\n",
       "      <td>1016</td>\n",
       "      <td>2019-04-01 15:46:20</td>\n",
       "    </tr>\n",
       "    <tr>\n",
       "      <th>1950</th>\n",
       "      <td>38575</td>\n",
       "      <td>1554134271</td>\n",
       "      <td>click</td>\n",
       "      <td>2019-04-01</td>\n",
       "      <td>CPC</td>\n",
       "      <td>0</td>\n",
       "      <td>23533</td>\n",
       "      <td>38575</td>\n",
       "      <td>ios</td>\n",
       "      <td>44.8</td>\n",
       "      <td>21831</td>\n",
       "      <td>980</td>\n",
       "      <td>2019-04-01 15:57:51</td>\n",
       "    </tr>\n",
       "    <tr>\n",
       "      <th>...</th>\n",
       "      <td>...</td>\n",
       "      <td>...</td>\n",
       "      <td>...</td>\n",
       "      <td>...</td>\n",
       "      <td>...</td>\n",
       "      <td>...</td>\n",
       "      <td>...</td>\n",
       "      <td>...</td>\n",
       "      <td>...</td>\n",
       "      <td>...</td>\n",
       "      <td>...</td>\n",
       "      <td>...</td>\n",
       "      <td>...</td>\n",
       "    </tr>\n",
       "    <tr>\n",
       "      <th>2919449</th>\n",
       "      <td>19940</td>\n",
       "      <td>1554507113</td>\n",
       "      <td>click</td>\n",
       "      <td>2019-04-06</td>\n",
       "      <td>CPC</td>\n",
       "      <td>0</td>\n",
       "      <td>2016</td>\n",
       "      <td>19939</td>\n",
       "      <td>android</td>\n",
       "      <td>54.9</td>\n",
       "      <td>24781</td>\n",
       "      <td>6614</td>\n",
       "      <td>2019-04-05 23:31:53</td>\n",
       "    </tr>\n",
       "    <tr>\n",
       "      <th>2951415</th>\n",
       "      <td>113878</td>\n",
       "      <td>1554506129</td>\n",
       "      <td>click</td>\n",
       "      <td>2019-04-06</td>\n",
       "      <td>CPC</td>\n",
       "      <td>0</td>\n",
       "      <td>113785</td>\n",
       "      <td>113878</td>\n",
       "      <td>ios</td>\n",
       "      <td>46.3</td>\n",
       "      <td>5473</td>\n",
       "      <td>8335</td>\n",
       "      <td>2019-04-05 23:15:29</td>\n",
       "    </tr>\n",
       "    <tr>\n",
       "      <th>2968612</th>\n",
       "      <td>26263</td>\n",
       "      <td>1554505928</td>\n",
       "      <td>click</td>\n",
       "      <td>2019-04-06</td>\n",
       "      <td>CPC</td>\n",
       "      <td>0</td>\n",
       "      <td>14710</td>\n",
       "      <td>26263</td>\n",
       "      <td>ios</td>\n",
       "      <td>47.0</td>\n",
       "      <td>10912</td>\n",
       "      <td>2382</td>\n",
       "      <td>2019-04-05 23:12:08</td>\n",
       "    </tr>\n",
       "    <tr>\n",
       "      <th>2991470</th>\n",
       "      <td>3</td>\n",
       "      <td>1554506714</td>\n",
       "      <td>click</td>\n",
       "      <td>2019-04-06</td>\n",
       "      <td>CPC</td>\n",
       "      <td>0</td>\n",
       "      <td>1</td>\n",
       "      <td>1</td>\n",
       "      <td>ios</td>\n",
       "      <td>52.4</td>\n",
       "      <td>52875</td>\n",
       "      <td>413</td>\n",
       "      <td>2019-04-05 23:25:14</td>\n",
       "    </tr>\n",
       "    <tr>\n",
       "      <th>3086845</th>\n",
       "      <td>3</td>\n",
       "      <td>1554501929</td>\n",
       "      <td>click</td>\n",
       "      <td>2019-04-06</td>\n",
       "      <td>CPC</td>\n",
       "      <td>0</td>\n",
       "      <td>1</td>\n",
       "      <td>1</td>\n",
       "      <td>android</td>\n",
       "      <td>52.4</td>\n",
       "      <td>52875</td>\n",
       "      <td>7104</td>\n",
       "      <td>2019-04-05 22:05:29</td>\n",
       "    </tr>\n",
       "  </tbody>\n",
       "</table>\n",
       "<p>1674 rows × 13 columns</p>\n",
       "</div>"
      ],
      "text/plain": [
       "          ad_id        time  event       date ad_cost_type  has_video  \\\n",
       "248        4585  1554135960  click 2019-04-01          CPC          0   \n",
       "880      120444  1554136218  click 2019-04-01          CPC          0   \n",
       "1011      38110  1554136457  click 2019-04-01          CPC          0   \n",
       "1569      38575  1554133580  click 2019-04-01          CPC          0   \n",
       "1950      38575  1554134271  click 2019-04-01          CPC          0   \n",
       "...         ...         ...    ...        ...          ...        ...   \n",
       "2919449   19940  1554507113  click 2019-04-06          CPC          0   \n",
       "2951415  113878  1554506129  click 2019-04-06          CPC          0   \n",
       "2968612   26263  1554505928  click 2019-04-06          CPC          0   \n",
       "2991470       3  1554506714  click 2019-04-06          CPC          0   \n",
       "3086845       3  1554501929  click 2019-04-06          CPC          0   \n",
       "\n",
       "         client_union_id  campaign_union_id platform  ad_cost  \\\n",
       "248                   37               4382  android     53.5   \n",
       "880               120413             120440  android     52.0   \n",
       "1011               23359              38110  android     54.1   \n",
       "1569               23533              38575  android     44.8   \n",
       "1950               23533              38575      ios     44.8   \n",
       "...                  ...                ...      ...      ...   \n",
       "2919449             2016              19939  android     54.9   \n",
       "2951415           113785             113878      ios     46.3   \n",
       "2968612            14710              26263      ios     47.0   \n",
       "2991470                1                  1      ios     52.4   \n",
       "3086845                1                  1  android     52.4   \n",
       "\n",
       "         target_audience_count  user_id           full_date  \n",
       "248                     327648      538 2019-04-01 16:26:00  \n",
       "880                       4667      874 2019-04-01 16:30:18  \n",
       "1011                      4181      239 2019-04-01 16:34:17  \n",
       "1569                     21831     1016 2019-04-01 15:46:20  \n",
       "1950                     21831      980 2019-04-01 15:57:51  \n",
       "...                        ...      ...                 ...  \n",
       "2919449                  24781     6614 2019-04-05 23:31:53  \n",
       "2951415                   5473     8335 2019-04-05 23:15:29  \n",
       "2968612                  10912     2382 2019-04-05 23:12:08  \n",
       "2991470                  52875      413 2019-04-05 23:25:14  \n",
       "3086845                  52875     7104 2019-04-05 22:05:29  \n",
       "\n",
       "[1674 rows x 13 columns]"
      ]
     },
     "execution_count": 46,
     "metadata": {},
     "output_type": "execute_result"
    }
   ],
   "source": [
    "ads_data.query('(ad_cost_type == \"CPC\") & (event == \"click\")')  #отобрали только клики в CPC"
   ]
  },
  {
   "cell_type": "markdown",
   "metadata": {},
   "source": [
    "Заработок по дням из ```ad_cost_type == \"CPC\"```"
   ]
  },
  {
   "cell_type": "code",
   "execution_count": 47,
   "metadata": {},
   "outputs": [
    {
     "data": {
      "text/html": [
       "<div>\n",
       "<style scoped>\n",
       "    .dataframe tbody tr th:only-of-type {\n",
       "        vertical-align: middle;\n",
       "    }\n",
       "\n",
       "    .dataframe tbody tr th {\n",
       "        vertical-align: top;\n",
       "    }\n",
       "\n",
       "    .dataframe thead th {\n",
       "        text-align: right;\n",
       "    }\n",
       "</style>\n",
       "<table border=\"1\" class=\"dataframe\">\n",
       "  <thead>\n",
       "    <tr style=\"text-align: right;\">\n",
       "      <th></th>\n",
       "      <th>date</th>\n",
       "      <th>ad_cost</th>\n",
       "    </tr>\n",
       "  </thead>\n",
       "  <tbody>\n",
       "  </tbody>\n",
       "</table>\n",
       "</div>"
      ],
      "text/plain": [
       "Empty DataFrame\n",
       "Columns: [date, ad_cost]\n",
       "Index: []"
      ]
     },
     "execution_count": 47,
     "metadata": {},
     "output_type": "execute_result"
    }
   ],
   "source": [
    "ads_data.query('(ad_cost_type == \"CPC\") & (event == \"\")') \\\n",
    "    .groupby('date', as_index=False) \\\n",
    "    .agg({'ad_cost': 'sum'})"
   ]
  },
  {
   "cell_type": "markdown",
   "metadata": {},
   "source": [
    "А сколько заработали"
   ]
  },
  {
   "cell_type": "code",
   "execution_count": 48,
   "metadata": {},
   "outputs": [
    {
     "data": {
      "text/plain": [
       "84810.0"
      ]
     },
     "execution_count": 48,
     "metadata": {},
     "output_type": "execute_result"
    }
   ],
   "source": [
    "cost_CPC = ads_data.query('(ad_cost_type == \"CPC\") & (event == \"click\")').ad_cost.sum()\n",
    "cost_CPC"
   ]
  },
  {
   "cell_type": "code",
   "execution_count": 49,
   "metadata": {},
   "outputs": [
    {
     "data": {
      "text/plain": [
       "'Всего на объявлениях с типом оплаты CPC компания заработала 84810.0 рублей'"
      ]
     },
     "execution_count": 49,
     "metadata": {},
     "output_type": "execute_result"
    }
   ],
   "source": [
    "'Всего на объявлениях с типом оплаты CPC компания заработала {} рублей'.format(cost_CPC)"
   ]
  },
  {
   "cell_type": "code",
   "execution_count": 50,
   "metadata": {},
   "outputs": [
    {
     "data": {
      "text/html": [
       "<div>\n",
       "<style scoped>\n",
       "    .dataframe tbody tr th:only-of-type {\n",
       "        vertical-align: middle;\n",
       "    }\n",
       "\n",
       "    .dataframe tbody tr th {\n",
       "        vertical-align: top;\n",
       "    }\n",
       "\n",
       "    .dataframe thead th {\n",
       "        text-align: right;\n",
       "    }\n",
       "</style>\n",
       "<table border=\"1\" class=\"dataframe\">\n",
       "  <thead>\n",
       "    <tr style=\"text-align: right;\">\n",
       "      <th></th>\n",
       "      <th>date</th>\n",
       "      <th>ad_cost</th>\n",
       "    </tr>\n",
       "  </thead>\n",
       "  <tbody>\n",
       "    <tr>\n",
       "      <th>0</th>\n",
       "      <td>2019-04-01</td>\n",
       "      <td>6.122812e+06</td>\n",
       "    </tr>\n",
       "    <tr>\n",
       "      <th>1</th>\n",
       "      <td>2019-04-02</td>\n",
       "      <td>2.617331e+07</td>\n",
       "    </tr>\n",
       "    <tr>\n",
       "      <th>2</th>\n",
       "      <td>2019-04-03</td>\n",
       "      <td>3.461232e+07</td>\n",
       "    </tr>\n",
       "    <tr>\n",
       "      <th>3</th>\n",
       "      <td>2019-04-04</td>\n",
       "      <td>1.941636e+07</td>\n",
       "    </tr>\n",
       "    <tr>\n",
       "      <th>4</th>\n",
       "      <td>2019-04-05</td>\n",
       "      <td>3.541785e+08</td>\n",
       "    </tr>\n",
       "    <tr>\n",
       "      <th>5</th>\n",
       "      <td>2019-04-06</td>\n",
       "      <td>5.658734e+07</td>\n",
       "    </tr>\n",
       "  </tbody>\n",
       "</table>\n",
       "</div>"
      ],
      "text/plain": [
       "        date       ad_cost\n",
       "0 2019-04-01  6.122812e+06\n",
       "1 2019-04-02  2.617331e+07\n",
       "2 2019-04-03  3.461232e+07\n",
       "3 2019-04-04  1.941636e+07\n",
       "4 2019-04-05  3.541785e+08\n",
       "5 2019-04-06  5.658734e+07"
      ]
     },
     "execution_count": 50,
     "metadata": {},
     "output_type": "execute_result"
    }
   ],
   "source": [
    "ads_data.query('(ad_cost_type == \"CPM\") & (event == \"view\")') \\\n",
    "    .groupby('date', as_index=False) \\\n",
    "    .agg({'ad_cost': 'sum'})"
   ]
  },
  {
   "cell_type": "code",
   "execution_count": 51,
   "metadata": {},
   "outputs": [
    {
     "data": {
      "text/plain": [
       "497090.6778000003"
      ]
     },
     "execution_count": 51,
     "metadata": {},
     "output_type": "execute_result"
    }
   ],
   "source": [
    "cost_CPM = ads_data.query('(ad_cost_type == \"CPM\") & (event == \"view\")').ad_cost.sum() / 1000\n",
    "cost_CPM"
   ]
  },
  {
   "cell_type": "code",
   "execution_count": 52,
   "metadata": {},
   "outputs": [
    {
     "data": {
      "text/plain": [
       "'Всего на объявлениях с типом оплаты CPM компания заработала 497090.68 рублей'"
      ]
     },
     "execution_count": 52,
     "metadata": {},
     "output_type": "execute_result"
    }
   ],
   "source": [
    "'Всего на объявлениях с типом оплаты CPM компания заработала {} рублей'.format(cost_CPM.round(2))"
   ]
  },
  {
   "cell_type": "code",
   "execution_count": 53,
   "metadata": {},
   "outputs": [
    {
     "data": {
      "text/plain": [
       "'Сумма за все платные действия - 581900.68 рублей'"
      ]
     },
     "execution_count": 53,
     "metadata": {},
     "output_type": "execute_result"
    }
   ],
   "source": [
    "'Сумма за все платные действия - {} рублей'.format((cost_CPM + cost_CPC).round(2))"
   ]
  },
  {
   "cell_type": "markdown",
   "metadata": {},
   "source": [
    "**Весь общий заработок по дням**"
   ]
  },
  {
   "cell_type": "code",
   "execution_count": 54,
   "metadata": {},
   "outputs": [
    {
     "data": {
      "text/html": [
       "<div>\n",
       "<style scoped>\n",
       "    .dataframe tbody tr th:only-of-type {\n",
       "        vertical-align: middle;\n",
       "    }\n",
       "\n",
       "    .dataframe tbody tr th {\n",
       "        vertical-align: top;\n",
       "    }\n",
       "\n",
       "    .dataframe thead th {\n",
       "        text-align: right;\n",
       "    }\n",
       "</style>\n",
       "<table border=\"1\" class=\"dataframe\">\n",
       "  <thead>\n",
       "    <tr style=\"text-align: right;\">\n",
       "      <th></th>\n",
       "      <th>date</th>\n",
       "      <th>ad_cost_CPC</th>\n",
       "    </tr>\n",
       "  </thead>\n",
       "  <tbody>\n",
       "    <tr>\n",
       "      <th>0</th>\n",
       "      <td>2019-04-01</td>\n",
       "      <td>7036.9</td>\n",
       "    </tr>\n",
       "    <tr>\n",
       "      <th>1</th>\n",
       "      <td>2019-04-02</td>\n",
       "      <td>7663.7</td>\n",
       "    </tr>\n",
       "    <tr>\n",
       "      <th>2</th>\n",
       "      <td>2019-04-03</td>\n",
       "      <td>38597.2</td>\n",
       "    </tr>\n",
       "    <tr>\n",
       "      <th>3</th>\n",
       "      <td>2019-04-04</td>\n",
       "      <td>26878.0</td>\n",
       "    </tr>\n",
       "    <tr>\n",
       "      <th>4</th>\n",
       "      <td>2019-04-05</td>\n",
       "      <td>4381.2</td>\n",
       "    </tr>\n",
       "    <tr>\n",
       "      <th>5</th>\n",
       "      <td>2019-04-06</td>\n",
       "      <td>253.0</td>\n",
       "    </tr>\n",
       "  </tbody>\n",
       "</table>\n",
       "</div>"
      ],
      "text/plain": [
       "        date  ad_cost_CPC\n",
       "0 2019-04-01       7036.9\n",
       "1 2019-04-02       7663.7\n",
       "2 2019-04-03      38597.2\n",
       "3 2019-04-04      26878.0\n",
       "4 2019-04-05       4381.2\n",
       "5 2019-04-06        253.0"
      ]
     },
     "execution_count": 54,
     "metadata": {},
     "output_type": "execute_result"
    }
   ],
   "source": [
    "CPC = ads_data.query('(ad_cost_type == \"CPC\") & (event == \"click\")') \\\n",
    "    .groupby('date', as_index=False) \\\n",
    "    .agg({'ad_cost': 'sum'})\n",
    "\n",
    "CPC = CPC.rename({'ad_cost': 'ad_cost_CPC'}, axis=1)\n",
    "CPC"
   ]
  },
  {
   "cell_type": "code",
   "execution_count": 55,
   "metadata": {},
   "outputs": [],
   "source": [
    "CPM_1000 = ads_data.query('(ad_cost_type == \"CPM\") & (event == \"view\")') \\\n",
    "    .groupby('date', as_index=False) \\\n",
    "    .agg({'ad_cost': 'sum'})\n",
    "# это еще без деления на 100"
   ]
  },
  {
   "cell_type": "code",
   "execution_count": 56,
   "metadata": {},
   "outputs": [
    {
     "data": {
      "text/html": [
       "<div>\n",
       "<style scoped>\n",
       "    .dataframe tbody tr th:only-of-type {\n",
       "        vertical-align: middle;\n",
       "    }\n",
       "\n",
       "    .dataframe tbody tr th {\n",
       "        vertical-align: top;\n",
       "    }\n",
       "\n",
       "    .dataframe thead th {\n",
       "        text-align: right;\n",
       "    }\n",
       "</style>\n",
       "<table border=\"1\" class=\"dataframe\">\n",
       "  <thead>\n",
       "    <tr style=\"text-align: right;\">\n",
       "      <th></th>\n",
       "      <th>date</th>\n",
       "      <th>ad_cost</th>\n",
       "      <th>ad_cost_1000</th>\n",
       "    </tr>\n",
       "  </thead>\n",
       "  <tbody>\n",
       "    <tr>\n",
       "      <th>0</th>\n",
       "      <td>2019-04-01</td>\n",
       "      <td>6.122812e+06</td>\n",
       "      <td>6122.81</td>\n",
       "    </tr>\n",
       "    <tr>\n",
       "      <th>1</th>\n",
       "      <td>2019-04-02</td>\n",
       "      <td>2.617331e+07</td>\n",
       "      <td>26173.31</td>\n",
       "    </tr>\n",
       "    <tr>\n",
       "      <th>2</th>\n",
       "      <td>2019-04-03</td>\n",
       "      <td>3.461232e+07</td>\n",
       "      <td>34612.32</td>\n",
       "    </tr>\n",
       "    <tr>\n",
       "      <th>3</th>\n",
       "      <td>2019-04-04</td>\n",
       "      <td>1.941636e+07</td>\n",
       "      <td>19416.36</td>\n",
       "    </tr>\n",
       "    <tr>\n",
       "      <th>4</th>\n",
       "      <td>2019-04-05</td>\n",
       "      <td>3.541785e+08</td>\n",
       "      <td>354178.55</td>\n",
       "    </tr>\n",
       "    <tr>\n",
       "      <th>5</th>\n",
       "      <td>2019-04-06</td>\n",
       "      <td>5.658734e+07</td>\n",
       "      <td>56587.34</td>\n",
       "    </tr>\n",
       "  </tbody>\n",
       "</table>\n",
       "</div>"
      ],
      "text/plain": [
       "        date       ad_cost  ad_cost_1000\n",
       "0 2019-04-01  6.122812e+06       6122.81\n",
       "1 2019-04-02  2.617331e+07      26173.31\n",
       "2 2019-04-03  3.461232e+07      34612.32\n",
       "3 2019-04-04  1.941636e+07      19416.36\n",
       "4 2019-04-05  3.541785e+08     354178.55\n",
       "5 2019-04-06  5.658734e+07      56587.34"
      ]
     },
     "execution_count": 56,
     "metadata": {},
     "output_type": "execute_result"
    }
   ],
   "source": [
    "CPM_1000['ad_cost_1000'] = (CPM_1000.ad_cost / 1000).round(2)\n",
    "CPM_1000"
   ]
  },
  {
   "cell_type": "code",
   "execution_count": 57,
   "metadata": {},
   "outputs": [],
   "source": [
    "CPM = CPM_1000.drop('ad_cost', axis=1).rename({'ad_cost_1000': 'ad_cost'}, axis=1)"
   ]
  },
  {
   "cell_type": "code",
   "execution_count": 58,
   "metadata": {},
   "outputs": [
    {
     "data": {
      "text/html": [
       "<div>\n",
       "<style scoped>\n",
       "    .dataframe tbody tr th:only-of-type {\n",
       "        vertical-align: middle;\n",
       "    }\n",
       "\n",
       "    .dataframe tbody tr th {\n",
       "        vertical-align: top;\n",
       "    }\n",
       "\n",
       "    .dataframe thead th {\n",
       "        text-align: right;\n",
       "    }\n",
       "</style>\n",
       "<table border=\"1\" class=\"dataframe\">\n",
       "  <thead>\n",
       "    <tr style=\"text-align: right;\">\n",
       "      <th></th>\n",
       "      <th>date</th>\n",
       "      <th>ad_cost_CPM</th>\n",
       "    </tr>\n",
       "  </thead>\n",
       "  <tbody>\n",
       "    <tr>\n",
       "      <th>0</th>\n",
       "      <td>2019-04-01</td>\n",
       "      <td>6122.81</td>\n",
       "    </tr>\n",
       "    <tr>\n",
       "      <th>1</th>\n",
       "      <td>2019-04-02</td>\n",
       "      <td>26173.31</td>\n",
       "    </tr>\n",
       "    <tr>\n",
       "      <th>2</th>\n",
       "      <td>2019-04-03</td>\n",
       "      <td>34612.32</td>\n",
       "    </tr>\n",
       "    <tr>\n",
       "      <th>3</th>\n",
       "      <td>2019-04-04</td>\n",
       "      <td>19416.36</td>\n",
       "    </tr>\n",
       "    <tr>\n",
       "      <th>4</th>\n",
       "      <td>2019-04-05</td>\n",
       "      <td>354178.55</td>\n",
       "    </tr>\n",
       "    <tr>\n",
       "      <th>5</th>\n",
       "      <td>2019-04-06</td>\n",
       "      <td>56587.34</td>\n",
       "    </tr>\n",
       "  </tbody>\n",
       "</table>\n",
       "</div>"
      ],
      "text/plain": [
       "        date  ad_cost_CPM\n",
       "0 2019-04-01      6122.81\n",
       "1 2019-04-02     26173.31\n",
       "2 2019-04-03     34612.32\n",
       "3 2019-04-04     19416.36\n",
       "4 2019-04-05    354178.55\n",
       "5 2019-04-06     56587.34"
      ]
     },
     "execution_count": 58,
     "metadata": {},
     "output_type": "execute_result"
    }
   ],
   "source": [
    "CPM = CPM.rename({'ad_cost': 'ad_cost_CPM'}, axis=1)\n",
    "CPM"
   ]
  },
  {
   "cell_type": "code",
   "execution_count": 59,
   "metadata": {},
   "outputs": [
    {
     "data": {
      "text/html": [
       "<div>\n",
       "<style scoped>\n",
       "    .dataframe tbody tr th:only-of-type {\n",
       "        vertical-align: middle;\n",
       "    }\n",
       "\n",
       "    .dataframe tbody tr th {\n",
       "        vertical-align: top;\n",
       "    }\n",
       "\n",
       "    .dataframe thead th {\n",
       "        text-align: right;\n",
       "    }\n",
       "</style>\n",
       "<table border=\"1\" class=\"dataframe\">\n",
       "  <thead>\n",
       "    <tr style=\"text-align: right;\">\n",
       "      <th></th>\n",
       "      <th>date</th>\n",
       "      <th>ad_cost_CPC</th>\n",
       "      <th>ad_cost_CPM</th>\n",
       "      <th>total_cost</th>\n",
       "    </tr>\n",
       "  </thead>\n",
       "  <tbody>\n",
       "    <tr>\n",
       "      <th>4</th>\n",
       "      <td>2019-04-05</td>\n",
       "      <td>4381.2</td>\n",
       "      <td>354178.55</td>\n",
       "      <td>358559.75</td>\n",
       "    </tr>\n",
       "    <tr>\n",
       "      <th>2</th>\n",
       "      <td>2019-04-03</td>\n",
       "      <td>38597.2</td>\n",
       "      <td>34612.32</td>\n",
       "      <td>73209.52</td>\n",
       "    </tr>\n",
       "    <tr>\n",
       "      <th>5</th>\n",
       "      <td>2019-04-06</td>\n",
       "      <td>253.0</td>\n",
       "      <td>56587.34</td>\n",
       "      <td>56840.34</td>\n",
       "    </tr>\n",
       "    <tr>\n",
       "      <th>3</th>\n",
       "      <td>2019-04-04</td>\n",
       "      <td>26878.0</td>\n",
       "      <td>19416.36</td>\n",
       "      <td>46294.36</td>\n",
       "    </tr>\n",
       "    <tr>\n",
       "      <th>1</th>\n",
       "      <td>2019-04-02</td>\n",
       "      <td>7663.7</td>\n",
       "      <td>26173.31</td>\n",
       "      <td>33837.01</td>\n",
       "    </tr>\n",
       "    <tr>\n",
       "      <th>0</th>\n",
       "      <td>2019-04-01</td>\n",
       "      <td>7036.9</td>\n",
       "      <td>6122.81</td>\n",
       "      <td>13159.71</td>\n",
       "    </tr>\n",
       "  </tbody>\n",
       "</table>\n",
       "</div>"
      ],
      "text/plain": [
       "        date  ad_cost_CPC  ad_cost_CPM  total_cost\n",
       "4 2019-04-05       4381.2    354178.55   358559.75\n",
       "2 2019-04-03      38597.2     34612.32    73209.52\n",
       "5 2019-04-06        253.0     56587.34    56840.34\n",
       "3 2019-04-04      26878.0     19416.36    46294.36\n",
       "1 2019-04-02       7663.7     26173.31    33837.01\n",
       "0 2019-04-01       7036.9      6122.81    13159.71"
      ]
     },
     "execution_count": 59,
     "metadata": {},
     "output_type": "execute_result"
    }
   ],
   "source": [
    "data_cost_day = CPC.merge(CPM, on='date')\n",
    "data_cost_day['total_cost'] = data_cost_day.ad_cost_CPC + data_cost_day.ad_cost_CPM\n",
    "data_cost_day.sort_values('total_cost', ascending=False)"
   ]
  },
  {
   "cell_type": "code",
   "execution_count": 60,
   "metadata": {},
   "outputs": [
    {
     "data": {
      "text/plain": [
       "358559.75"
      ]
     },
     "execution_count": 60,
     "metadata": {},
     "output_type": "execute_result"
    }
   ],
   "source": [
    "max_cost = data_cost_day.total_cost.max()\n",
    "max_cost"
   ]
  },
  {
   "cell_type": "code",
   "execution_count": 61,
   "metadata": {},
   "outputs": [
    {
     "data": {
      "text/plain": [
       "13159.710000000003"
      ]
     },
     "execution_count": 61,
     "metadata": {},
     "output_type": "execute_result"
    }
   ],
   "source": [
    "min_cost = data_cost_day.total_cost.min()\n",
    "min_cost"
   ]
  },
  {
   "cell_type": "code",
   "execution_count": 62,
   "metadata": {},
   "outputs": [],
   "source": [
    "max_cost_day = (data_cost_day.sort_values('total_cost', ascending=False)).head(1).date"
   ]
  },
  {
   "cell_type": "code",
   "execution_count": 63,
   "metadata": {},
   "outputs": [
    {
     "data": {
      "text/plain": [
       "4   2019-04-05\n",
       "Name: date, dtype: datetime64[ns]"
      ]
     },
     "execution_count": 63,
     "metadata": {},
     "output_type": "execute_result"
    }
   ],
   "source": [
    "max_cost_day"
   ]
  },
  {
   "cell_type": "code",
   "execution_count": 64,
   "metadata": {},
   "outputs": [
    {
     "data": {
      "text/plain": [
       "<bound method IndexOpsMixin.tolist of DatetimeIndex(['2019-04-01'], dtype='datetime64[ns]', name='date', freq=None)>"
      ]
     },
     "execution_count": 64,
     "metadata": {},
     "output_type": "execute_result"
    }
   ],
   "source": [
    "max_cost_day_2 = data_cost_day.set_index('date').head(1).index.to_list\n",
    "l = []\n",
    "l.append(max_cost_day_2)\n",
    "max_cost_day_2\n"
   ]
  },
  {
   "cell_type": "code",
   "execution_count": 65,
   "metadata": {},
   "outputs": [
    {
     "data": {
      "text/plain": [
       "'Максимально на объявлениях компания заработала 358559.75 рублей 1 апреля 2019'"
      ]
     },
     "execution_count": 65,
     "metadata": {},
     "output_type": "execute_result"
    }
   ],
   "source": [
    "'Максимально на объявлениях компания заработала {} рублей 1 апреля 2019'.format(max_cost)"
   ]
  },
  {
   "cell_type": "markdown",
   "metadata": {},
   "source": [
    "---"
   ]
  },
  {
   "cell_type": "markdown",
   "metadata": {},
   "source": [
    " > **5.**\n",
    " Какая платформа самая популярная для размещения рекламных объявлений? Сколько процентов показов приходится на каждую из платформ (колонка platform)?\n",
    "А есть ли такие объявления, по которым сначала произошел клик, а только потом показ?"
   ]
  },
  {
   "cell_type": "markdown",
   "metadata": {},
   "source": [
    "Начнем с \n",
    "\n",
    " А есть ли такие объявления, по которым сначала произошел клик, а только потом показ?\n",
    " \n",
    "\n",
    "Для этого сгруппируем данные по 'ad_id' и 'event', и найдем минимальное время, т е время которое было раньше, так мы для каждого из ad_id посчитаем минимальное время показа и минимальное время клика и отберем те события где время клика оказалось раньше времени просмотра"
   ]
  },
  {
   "cell_type": "code",
   "execution_count": 69,
   "metadata": {},
   "outputs": [
    {
     "data": {
      "text/html": [
       "<div>\n",
       "<style scoped>\n",
       "    .dataframe tbody tr th:only-of-type {\n",
       "        vertical-align: middle;\n",
       "    }\n",
       "\n",
       "    .dataframe tbody tr th {\n",
       "        vertical-align: top;\n",
       "    }\n",
       "\n",
       "    .dataframe thead th {\n",
       "        text-align: right;\n",
       "    }\n",
       "</style>\n",
       "<table border=\"1\" class=\"dataframe\">\n",
       "  <thead>\n",
       "    <tr style=\"text-align: right;\">\n",
       "      <th>event</th>\n",
       "      <th>ad_id</th>\n",
       "      <th>click</th>\n",
       "      <th>view</th>\n",
       "    </tr>\n",
       "  </thead>\n",
       "  <tbody>\n",
       "    <tr>\n",
       "      <th>27</th>\n",
       "      <td>16548</td>\n",
       "      <td>1.554336e+09</td>\n",
       "      <td>1.554336e+09</td>\n",
       "    </tr>\n",
       "    <tr>\n",
       "      <th>81</th>\n",
       "      <td>30939</td>\n",
       "      <td>1.554165e+09</td>\n",
       "      <td>1.554173e+09</td>\n",
       "    </tr>\n",
       "    <tr>\n",
       "      <th>138</th>\n",
       "      <td>40464</td>\n",
       "      <td>1.554164e+09</td>\n",
       "      <td>1.554164e+09</td>\n",
       "    </tr>\n",
       "    <tr>\n",
       "      <th>158</th>\n",
       "      <td>42007</td>\n",
       "      <td>1.554423e+09</td>\n",
       "      <td>1.554423e+09</td>\n",
       "    </tr>\n",
       "    <tr>\n",
       "      <th>185</th>\n",
       "      <td>44543</td>\n",
       "      <td>1.554336e+09</td>\n",
       "      <td>1.554337e+09</td>\n",
       "    </tr>\n",
       "    <tr>\n",
       "      <th>201</th>\n",
       "      <td>45436</td>\n",
       "      <td>1.554336e+09</td>\n",
       "      <td>1.554336e+09</td>\n",
       "    </tr>\n",
       "    <tr>\n",
       "      <th>324</th>\n",
       "      <td>119450</td>\n",
       "      <td>1.554336e+09</td>\n",
       "      <td>1.554336e+09</td>\n",
       "    </tr>\n",
       "  </tbody>\n",
       "</table>\n",
       "</div>"
      ],
      "text/plain": [
       "event   ad_id         click          view\n",
       "27      16548  1.554336e+09  1.554336e+09\n",
       "81      30939  1.554165e+09  1.554173e+09\n",
       "138     40464  1.554164e+09  1.554164e+09\n",
       "158     42007  1.554423e+09  1.554423e+09\n",
       "185     44543  1.554336e+09  1.554337e+09\n",
       "201     45436  1.554336e+09  1.554336e+09\n",
       "324    119450  1.554336e+09  1.554336e+09"
      ]
     },
     "execution_count": 69,
     "metadata": {},
     "output_type": "execute_result"
    }
   ],
   "source": [
    "ads_data.groupby(['ad_id', 'event'], as_index=False) \\\n",
    "    .agg({'time': 'min'}) \\\n",
    "    .pivot(index='ad_id', columns='event', values='time').reset_index() \\\n",
    "    .query('click < view')"
   ]
  },
  {
   "cell_type": "markdown",
   "metadata": {},
   "source": [
    "Это мы получили, объявления с которыми у нас есть проблемы"
   ]
  },
  {
   "cell_type": "code",
   "execution_count": 70,
   "metadata": {},
   "outputs": [
    {
     "data": {
      "text/html": [
       "<div>\n",
       "<style scoped>\n",
       "    .dataframe tbody tr th:only-of-type {\n",
       "        vertical-align: middle;\n",
       "    }\n",
       "\n",
       "    .dataframe tbody tr th {\n",
       "        vertical-align: top;\n",
       "    }\n",
       "\n",
       "    .dataframe thead th {\n",
       "        text-align: right;\n",
       "    }\n",
       "</style>\n",
       "<table border=\"1\" class=\"dataframe\">\n",
       "  <thead>\n",
       "    <tr style=\"text-align: right;\">\n",
       "      <th></th>\n",
       "      <th>ad_id</th>\n",
       "      <th>time</th>\n",
       "      <th>event</th>\n",
       "      <th>date</th>\n",
       "      <th>ad_cost_type</th>\n",
       "      <th>has_video</th>\n",
       "      <th>client_union_id</th>\n",
       "      <th>campaign_union_id</th>\n",
       "      <th>platform</th>\n",
       "      <th>ad_cost</th>\n",
       "      <th>target_audience_count</th>\n",
       "      <th>user_id</th>\n",
       "      <th>full_date</th>\n",
       "    </tr>\n",
       "  </thead>\n",
       "  <tbody>\n",
       "    <tr>\n",
       "      <th>512690</th>\n",
       "      <td>16548</td>\n",
       "      <td>1554336083</td>\n",
       "      <td>click</td>\n",
       "      <td>2019-04-04</td>\n",
       "      <td>CPM</td>\n",
       "      <td>0</td>\n",
       "      <td>722</td>\n",
       "      <td>16523</td>\n",
       "      <td>ios</td>\n",
       "      <td>196.6</td>\n",
       "      <td>53199</td>\n",
       "      <td>4133</td>\n",
       "      <td>2019-04-04 00:01:23</td>\n",
       "    </tr>\n",
       "    <tr>\n",
       "      <th>511482</th>\n",
       "      <td>16548</td>\n",
       "      <td>1554336278</td>\n",
       "      <td>view</td>\n",
       "      <td>2019-04-04</td>\n",
       "      <td>CPM</td>\n",
       "      <td>0</td>\n",
       "      <td>722</td>\n",
       "      <td>16523</td>\n",
       "      <td>android</td>\n",
       "      <td>196.6</td>\n",
       "      <td>53199</td>\n",
       "      <td>3736</td>\n",
       "      <td>2019-04-04 00:04:38</td>\n",
       "    </tr>\n",
       "    <tr>\n",
       "      <th>511439</th>\n",
       "      <td>16548</td>\n",
       "      <td>1554336352</td>\n",
       "      <td>view</td>\n",
       "      <td>2019-04-04</td>\n",
       "      <td>CPM</td>\n",
       "      <td>0</td>\n",
       "      <td>722</td>\n",
       "      <td>16523</td>\n",
       "      <td>android</td>\n",
       "      <td>196.6</td>\n",
       "      <td>53199</td>\n",
       "      <td>4968</td>\n",
       "      <td>2019-04-04 00:05:52</td>\n",
       "    </tr>\n",
       "    <tr>\n",
       "      <th>511438</th>\n",
       "      <td>16548</td>\n",
       "      <td>1554336352</td>\n",
       "      <td>view</td>\n",
       "      <td>2019-04-04</td>\n",
       "      <td>CPM</td>\n",
       "      <td>0</td>\n",
       "      <td>722</td>\n",
       "      <td>16523</td>\n",
       "      <td>ios</td>\n",
       "      <td>196.6</td>\n",
       "      <td>53199</td>\n",
       "      <td>4206</td>\n",
       "      <td>2019-04-04 00:05:52</td>\n",
       "    </tr>\n",
       "    <tr>\n",
       "      <th>511437</th>\n",
       "      <td>16548</td>\n",
       "      <td>1554336352</td>\n",
       "      <td>view</td>\n",
       "      <td>2019-04-04</td>\n",
       "      <td>CPM</td>\n",
       "      <td>0</td>\n",
       "      <td>722</td>\n",
       "      <td>16523</td>\n",
       "      <td>web</td>\n",
       "      <td>196.6</td>\n",
       "      <td>53199</td>\n",
       "      <td>3898</td>\n",
       "      <td>2019-04-04 00:05:52</td>\n",
       "    </tr>\n",
       "    <tr>\n",
       "      <th>...</th>\n",
       "      <td>...</td>\n",
       "      <td>...</td>\n",
       "      <td>...</td>\n",
       "      <td>...</td>\n",
       "      <td>...</td>\n",
       "      <td>...</td>\n",
       "      <td>...</td>\n",
       "      <td>...</td>\n",
       "      <td>...</td>\n",
       "      <td>...</td>\n",
       "      <td>...</td>\n",
       "      <td>...</td>\n",
       "      <td>...</td>\n",
       "    </tr>\n",
       "    <tr>\n",
       "      <th>2056433</th>\n",
       "      <td>16548</td>\n",
       "      <td>1554422265</td>\n",
       "      <td>view</td>\n",
       "      <td>2019-04-05</td>\n",
       "      <td>CPM</td>\n",
       "      <td>0</td>\n",
       "      <td>722</td>\n",
       "      <td>16523</td>\n",
       "      <td>android</td>\n",
       "      <td>196.6</td>\n",
       "      <td>53199</td>\n",
       "      <td>3613</td>\n",
       "      <td>2019-04-04 23:57:45</td>\n",
       "    </tr>\n",
       "    <tr>\n",
       "      <th>2056432</th>\n",
       "      <td>16548</td>\n",
       "      <td>1554422265</td>\n",
       "      <td>view</td>\n",
       "      <td>2019-04-05</td>\n",
       "      <td>CPM</td>\n",
       "      <td>0</td>\n",
       "      <td>722</td>\n",
       "      <td>16523</td>\n",
       "      <td>android</td>\n",
       "      <td>196.6</td>\n",
       "      <td>53199</td>\n",
       "      <td>6044</td>\n",
       "      <td>2019-04-04 23:57:45</td>\n",
       "    </tr>\n",
       "    <tr>\n",
       "      <th>2056461</th>\n",
       "      <td>16548</td>\n",
       "      <td>1554422308</td>\n",
       "      <td>view</td>\n",
       "      <td>2019-04-05</td>\n",
       "      <td>CPM</td>\n",
       "      <td>0</td>\n",
       "      <td>722</td>\n",
       "      <td>16523</td>\n",
       "      <td>ios</td>\n",
       "      <td>196.6</td>\n",
       "      <td>53199</td>\n",
       "      <td>5831</td>\n",
       "      <td>2019-04-04 23:58:28</td>\n",
       "    </tr>\n",
       "    <tr>\n",
       "      <th>2056652</th>\n",
       "      <td>16548</td>\n",
       "      <td>1554422338</td>\n",
       "      <td>view</td>\n",
       "      <td>2019-04-05</td>\n",
       "      <td>CPM</td>\n",
       "      <td>0</td>\n",
       "      <td>722</td>\n",
       "      <td>16523</td>\n",
       "      <td>android</td>\n",
       "      <td>196.6</td>\n",
       "      <td>53199</td>\n",
       "      <td>2837</td>\n",
       "      <td>2019-04-04 23:58:58</td>\n",
       "    </tr>\n",
       "    <tr>\n",
       "      <th>2056681</th>\n",
       "      <td>16548</td>\n",
       "      <td>1554422371</td>\n",
       "      <td>view</td>\n",
       "      <td>2019-04-05</td>\n",
       "      <td>CPM</td>\n",
       "      <td>0</td>\n",
       "      <td>722</td>\n",
       "      <td>16523</td>\n",
       "      <td>ios</td>\n",
       "      <td>196.6</td>\n",
       "      <td>53199</td>\n",
       "      <td>6051</td>\n",
       "      <td>2019-04-04 23:59:31</td>\n",
       "    </tr>\n",
       "  </tbody>\n",
       "</table>\n",
       "<p>2235 rows × 13 columns</p>\n",
       "</div>"
      ],
      "text/plain": [
       "         ad_id        time  event       date ad_cost_type  has_video  \\\n",
       "512690   16548  1554336083  click 2019-04-04          CPM          0   \n",
       "511482   16548  1554336278   view 2019-04-04          CPM          0   \n",
       "511439   16548  1554336352   view 2019-04-04          CPM          0   \n",
       "511438   16548  1554336352   view 2019-04-04          CPM          0   \n",
       "511437   16548  1554336352   view 2019-04-04          CPM          0   \n",
       "...        ...         ...    ...        ...          ...        ...   \n",
       "2056433  16548  1554422265   view 2019-04-05          CPM          0   \n",
       "2056432  16548  1554422265   view 2019-04-05          CPM          0   \n",
       "2056461  16548  1554422308   view 2019-04-05          CPM          0   \n",
       "2056652  16548  1554422338   view 2019-04-05          CPM          0   \n",
       "2056681  16548  1554422371   view 2019-04-05          CPM          0   \n",
       "\n",
       "         client_union_id  campaign_union_id platform  ad_cost  \\\n",
       "512690               722              16523      ios    196.6   \n",
       "511482               722              16523  android    196.6   \n",
       "511439               722              16523  android    196.6   \n",
       "511438               722              16523      ios    196.6   \n",
       "511437               722              16523      web    196.6   \n",
       "...                  ...                ...      ...      ...   \n",
       "2056433              722              16523  android    196.6   \n",
       "2056432              722              16523  android    196.6   \n",
       "2056461              722              16523      ios    196.6   \n",
       "2056652              722              16523  android    196.6   \n",
       "2056681              722              16523      ios    196.6   \n",
       "\n",
       "         target_audience_count  user_id           full_date  \n",
       "512690                   53199     4133 2019-04-04 00:01:23  \n",
       "511482                   53199     3736 2019-04-04 00:04:38  \n",
       "511439                   53199     4968 2019-04-04 00:05:52  \n",
       "511438                   53199     4206 2019-04-04 00:05:52  \n",
       "511437                   53199     3898 2019-04-04 00:05:52  \n",
       "...                        ...      ...                 ...  \n",
       "2056433                  53199     3613 2019-04-04 23:57:45  \n",
       "2056432                  53199     6044 2019-04-04 23:57:45  \n",
       "2056461                  53199     5831 2019-04-04 23:58:28  \n",
       "2056652                  53199     2837 2019-04-04 23:58:58  \n",
       "2056681                  53199     6051 2019-04-04 23:59:31  \n",
       "\n",
       "[2235 rows x 13 columns]"
      ]
     },
     "execution_count": 70,
     "metadata": {},
     "output_type": "execute_result"
    }
   ],
   "source": [
    "ads_data[ads_data.ad_id == 16548].sort_values('time')"
   ]
  },
  {
   "cell_type": "markdown",
   "metadata": {},
   "source": [
    "А теперь\n",
    "\n",
    " Какая платформа самая популярная для размещения рекламных объявлений? Сколько процентов показов приходится на каждую из платформ (колонка platform)?"
   ]
  },
  {
   "cell_type": "code",
   "execution_count": 72,
   "metadata": {},
   "outputs": [
    {
     "data": {
      "text/html": [
       "<div>\n",
       "<style scoped>\n",
       "    .dataframe tbody tr th:only-of-type {\n",
       "        vertical-align: middle;\n",
       "    }\n",
       "\n",
       "    .dataframe tbody tr th {\n",
       "        vertical-align: top;\n",
       "    }\n",
       "\n",
       "    .dataframe thead th {\n",
       "        text-align: right;\n",
       "    }\n",
       "</style>\n",
       "<table border=\"1\" class=\"dataframe\">\n",
       "  <thead>\n",
       "    <tr style=\"text-align: right;\">\n",
       "      <th></th>\n",
       "      <th>ad_id</th>\n",
       "    </tr>\n",
       "    <tr>\n",
       "      <th>platform</th>\n",
       "      <th></th>\n",
       "    </tr>\n",
       "  </thead>\n",
       "  <tbody>\n",
       "    <tr>\n",
       "      <th>android</th>\n",
       "      <td>1588211</td>\n",
       "    </tr>\n",
       "    <tr>\n",
       "      <th>ios</th>\n",
       "      <td>953078</td>\n",
       "    </tr>\n",
       "    <tr>\n",
       "      <th>web</th>\n",
       "      <td>635425</td>\n",
       "    </tr>\n",
       "  </tbody>\n",
       "</table>\n",
       "</div>"
      ],
      "text/plain": [
       "            ad_id\n",
       "platform         \n",
       "android   1588211\n",
       "ios        953078\n",
       "web        635425"
      ]
     },
     "execution_count": 72,
     "metadata": {},
     "output_type": "execute_result"
    }
   ],
   "source": [
    "ads_data.groupby('platform') \\\n",
    "    .agg({'ad_id': 'count'})"
   ]
  },
  {
   "cell_type": "code",
   "execution_count": 75,
   "metadata": {},
   "outputs": [],
   "source": [
    "df_platform_view = ads_data.query('event == \"view\"') \\\n",
    "    .groupby('platform', as_index=False) \\\n",
    "    .agg({'ad_id': 'count'})"
   ]
  },
  {
   "cell_type": "code",
   "execution_count": 76,
   "metadata": {},
   "outputs": [
    {
     "data": {
      "text/html": [
       "<div>\n",
       "<style scoped>\n",
       "    .dataframe tbody tr th:only-of-type {\n",
       "        vertical-align: middle;\n",
       "    }\n",
       "\n",
       "    .dataframe tbody tr th {\n",
       "        vertical-align: top;\n",
       "    }\n",
       "\n",
       "    .dataframe thead th {\n",
       "        text-align: right;\n",
       "    }\n",
       "</style>\n",
       "<table border=\"1\" class=\"dataframe\">\n",
       "  <thead>\n",
       "    <tr style=\"text-align: right;\">\n",
       "      <th></th>\n",
       "      <th>platform</th>\n",
       "      <th>ad_id</th>\n",
       "    </tr>\n",
       "  </thead>\n",
       "  <tbody>\n",
       "    <tr>\n",
       "      <th>0</th>\n",
       "      <td>android</td>\n",
       "      <td>1295189</td>\n",
       "    </tr>\n",
       "    <tr>\n",
       "      <th>1</th>\n",
       "      <td>ios</td>\n",
       "      <td>776114</td>\n",
       "    </tr>\n",
       "    <tr>\n",
       "      <th>2</th>\n",
       "      <td>web</td>\n",
       "      <td>517948</td>\n",
       "    </tr>\n",
       "  </tbody>\n",
       "</table>\n",
       "</div>"
      ],
      "text/plain": [
       "  platform    ad_id\n",
       "0  android  1295189\n",
       "1      ios   776114\n",
       "2      web   517948"
      ]
     },
     "execution_count": 76,
     "metadata": {},
     "output_type": "execute_result"
    }
   ],
   "source": [
    "df_platform_view "
   ]
  },
  {
   "cell_type": "code",
   "execution_count": 77,
   "metadata": {},
   "outputs": [],
   "source": [
    "sum_platform = df_platform_view.ad_id.sum()"
   ]
  },
  {
   "cell_type": "code",
   "execution_count": 82,
   "metadata": {},
   "outputs": [],
   "source": [
    "df_platform_view['ratio'] = ((df_platform_view.ad_id / sum_platform)*100).round(2)"
   ]
  },
  {
   "cell_type": "code",
   "execution_count": 83,
   "metadata": {},
   "outputs": [
    {
     "data": {
      "text/html": [
       "<div>\n",
       "<style scoped>\n",
       "    .dataframe tbody tr th:only-of-type {\n",
       "        vertical-align: middle;\n",
       "    }\n",
       "\n",
       "    .dataframe tbody tr th {\n",
       "        vertical-align: top;\n",
       "    }\n",
       "\n",
       "    .dataframe thead th {\n",
       "        text-align: right;\n",
       "    }\n",
       "</style>\n",
       "<table border=\"1\" class=\"dataframe\">\n",
       "  <thead>\n",
       "    <tr style=\"text-align: right;\">\n",
       "      <th></th>\n",
       "      <th>platform</th>\n",
       "      <th>ad_id</th>\n",
       "      <th>ratio</th>\n",
       "    </tr>\n",
       "  </thead>\n",
       "  <tbody>\n",
       "    <tr>\n",
       "      <th>0</th>\n",
       "      <td>android</td>\n",
       "      <td>1295189</td>\n",
       "      <td>50.02</td>\n",
       "    </tr>\n",
       "    <tr>\n",
       "      <th>1</th>\n",
       "      <td>ios</td>\n",
       "      <td>776114</td>\n",
       "      <td>29.97</td>\n",
       "    </tr>\n",
       "    <tr>\n",
       "      <th>2</th>\n",
       "      <td>web</td>\n",
       "      <td>517948</td>\n",
       "      <td>20.00</td>\n",
       "    </tr>\n",
       "  </tbody>\n",
       "</table>\n",
       "</div>"
      ],
      "text/plain": [
       "  platform    ad_id  ratio\n",
       "0  android  1295189  50.02\n",
       "1      ios   776114  29.97\n",
       "2      web   517948  20.00"
      ]
     },
     "execution_count": 83,
     "metadata": {},
     "output_type": "execute_result"
    }
   ],
   "source": [
    "df_platform_view"
   ]
  },
  {
   "cell_type": "code",
   "execution_count": 88,
   "metadata": {},
   "outputs": [
    {
     "data": {
      "text/plain": [
       "<matplotlib.axes._subplots.AxesSubplot at 0x7f4fa7dbf240>"
      ]
     },
     "execution_count": 88,
     "metadata": {},
     "output_type": "execute_result"
    },
    {
     "data": {
      "image/png": "[encoded data removed]",
      "text/plain": [
       "<Figure size 432x288 with 1 Axes>"
      ]
     },
     "metadata": {
      "needs_background": "light"
     },
     "output_type": "display_data"
    }
   ],
   "source": [
    "ads_data.ad_cost.hist()"
   ]
  },
  {
   "cell_type": "markdown",
   "metadata": {},
   "source": [
    "**Конец лекции 5**"
   ]
  }
 ],
 "metadata": {
  "kernelspec": {
   "display_name": "Python 3",
   "language": "python",
   "name": "python3"
  },
  "language_info": {
   "codemirror_mode": {
    "name": "ipython",
    "version": 3
   },
   "file_extension": ".py",
   "mimetype": "text/x-python",
   "name": "python",
   "nbconvert_exporter": "python",
   "pygments_lexer": "ipython3",
   "version": "3.7.3"
  }
 },
 "nbformat": 4,
 "nbformat_minor": 4
}
